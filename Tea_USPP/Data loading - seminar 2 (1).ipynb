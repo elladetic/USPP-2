{
 "cells": [
  {
   "cell_type": "code",
   "execution_count": 2,
   "id": "4d3b7e66",
   "metadata": {},
   "outputs": [],
   "source": [
    "import scipy.io\n",
    "import numpy as np"
   ]
  },
  {
   "cell_type": "code",
   "execution_count": 3,
   "id": "e2c45389",
   "metadata": {},
   "outputs": [
    {
     "name": "stdout",
     "output_type": "stream",
     "text": [
      "(256, 1707)\n"
     ]
    }
   ],
   "source": [
    "mat = scipy.io.loadmat('train_znamenke.mat')\n",
    "#print(mat)\n",
    "\n",
    "A = mat['azip']\n",
    "print(np.shape(A))"
   ]
  },
  {
   "cell_type": "code",
   "execution_count": 4,
   "id": "fa5d26df",
   "metadata": {},
   "outputs": [
    {
     "name": "stdout",
     "output_type": "stream",
     "text": [
      "(1, 1707)\n"
     ]
    }
   ],
   "source": [
    "mat1 = scipy.io.loadmat('train_correct_output.mat')\n",
    "#print(mat)\n",
    "\n",
    "D = mat1['dzip']\n",
    "print(np.shape(D))\n",
    "niz = D[0]"
   ]
  },
  {
   "cell_type": "code",
   "execution_count": 5,
   "id": "6d1970d8",
   "metadata": {},
   "outputs": [
    {
     "data": {
      "text/plain": [
       "array([-1.   , -1.   , -1.   , -1.   , -1.   , -1.   , -1.   , -0.631,\n",
       "        0.862, -0.167, -1.   , -1.   , -1.   , -1.   , -1.   , -1.   ,\n",
       "       -1.   , -1.   , -1.   , -1.   , -1.   , -1.   , -0.992,  0.297,\n",
       "        1.   ,  0.307, -1.   , -1.   , -1.   , -1.   , -1.   , -1.   ,\n",
       "       -1.   , -1.   , -1.   , -1.   , -1.   , -1.   , -0.41 ,  1.   ,\n",
       "        0.986, -0.565, -1.   , -1.   , -1.   , -1.   , -1.   , -1.   ,\n",
       "       -1.   , -1.   , -1.   , -1.   , -1.   , -0.683,  0.825,  1.   ,\n",
       "        0.562, -1.   , -1.   , -1.   , -1.   , -1.   , -1.   , -1.   ,\n",
       "       -1.   , -1.   , -1.   , -1.   , -0.938,  0.54 ,  1.   ,  0.778,\n",
       "       -0.715, -1.   , -1.   , -1.   , -1.   , -1.   , -1.   , -1.   ,\n",
       "       -1.   , -1.   , -1.   , -1.   ,  0.1  ,  1.   ,  0.922, -0.439,\n",
       "       -1.   , -1.   , -1.   , -1.   , -1.   , -1.   , -1.   , -1.   ,\n",
       "       -1.   , -1.   , -1.   , -0.257,  0.95 ,  1.   , -0.162, -1.   ,\n",
       "       -1.   , -1.   , -0.987, -0.714, -0.832, -1.   , -1.   , -1.   ,\n",
       "       -1.   , -1.   , -0.797,  0.909,  1.   ,  0.3  , -0.961, -1.   ,\n",
       "       -1.   , -0.55 ,  0.485,  0.996,  0.867,  0.092, -1.   , -1.   ,\n",
       "       -1.   , -1.   ,  0.278,  1.   ,  0.877, -0.824, -1.   , -0.905,\n",
       "        0.145,  0.977,  1.   ,  1.   ,  1.   ,  0.99 , -0.745, -1.   ,\n",
       "       -1.   , -0.95 ,  0.847,  1.   ,  0.327, -1.   , -1.   ,  0.355,\n",
       "        1.   ,  0.655, -0.109, -0.185,  1.   ,  0.988, -0.723, -1.   ,\n",
       "       -1.   , -0.63 ,  1.   ,  1.   ,  0.068, -0.925,  0.113,  0.96 ,\n",
       "        0.308, -0.884, -1.   , -0.075,  1.   ,  0.641, -0.995, -1.   ,\n",
       "       -1.   , -0.677,  1.   ,  1.   ,  0.753,  0.341,  1.   ,  0.707,\n",
       "       -0.942, -1.   , -1.   ,  0.545,  1.   ,  0.027, -1.   , -1.   ,\n",
       "       -1.   , -0.903,  0.792,  1.   ,  1.   ,  1.   ,  1.   ,  0.536,\n",
       "        0.184,  0.812,  0.837,  0.978,  0.864, -0.63 , -1.   , -1.   ,\n",
       "       -1.   , -1.   , -0.452,  0.828,  1.   ,  1.   ,  1.   ,  1.   ,\n",
       "        1.   ,  1.   ,  1.   ,  1.   ,  0.135, -1.   , -1.   , -1.   ,\n",
       "       -1.   , -1.   , -1.   , -0.483,  0.813,  1.   ,  1.   ,  1.   ,\n",
       "        1.   ,  1.   ,  1.   ,  0.219, -0.943, -1.   , -1.   , -1.   ,\n",
       "       -1.   , -1.   , -1.   , -1.   , -0.974, -0.429,  0.304,  0.823,\n",
       "        1.   ,  0.482, -0.474, -0.991, -1.   , -1.   , -1.   , -1.   ])"
      ]
     },
     "execution_count": 5,
     "metadata": {},
     "output_type": "execute_result"
    }
   ],
   "source": [
    "A[:,0]"
   ]
  },
  {
   "cell_type": "code",
   "execution_count": 21,
   "id": "5ea38cb3",
   "metadata": {},
   "outputs": [
    {
     "name": "stdout",
     "output_type": "stream",
     "text": [
      "Collecting tensorly\n",
      "  Downloading tensorly-0.7.0-py3-none-any.whl (198 kB)\n",
      "Requirement already satisfied: nose in c:\\users\\38595\\anaconda3\\lib\\site-packages (from tensorly) (1.3.7)\n",
      "Requirement already satisfied: scipy in c:\\users\\38595\\anaconda3\\lib\\site-packages (from tensorly) (1.6.2)\n",
      "Requirement already satisfied: numpy in c:\\users\\38595\\anaconda3\\lib\\site-packages (from tensorly) (1.20.1)\n",
      "Installing collected packages: tensorly\n",
      "Successfully installed tensorly-0.7.0\n"
     ]
    }
   ],
   "source": [
    "#!pip install tensorly"
   ]
  },
  {
   "cell_type": "code",
   "execution_count": 6,
   "id": "da65b714",
   "metadata": {},
   "outputs": [],
   "source": [
    "import tensorly as tl"
   ]
  },
  {
   "cell_type": "markdown",
   "id": "c427eb6b",
   "metadata": {},
   "source": [
    "## Slaganje tenzora"
   ]
  },
  {
   "cell_type": "code",
   "execution_count": 63,
   "id": "b099ed1b",
   "metadata": {},
   "outputs": [
    {
     "name": "stdout",
     "output_type": "stream",
     "text": [
      "(256, 319)\n",
      "(256, 252)\n",
      "(256, 202)\n",
      "(256, 131)\n",
      "(256, 122)\n",
      "(256, 88)\n",
      "(256, 151)\n",
      "(256, 166)\n",
      "(256, 144)\n",
      "(256, 132)\n"
     ]
    }
   ],
   "source": [
    "baze_prostora_znamenki = dict()\n",
    "l = 30 \n",
    "\n",
    "for i in range (10):\n",
    "    J = [j for j, x in enumerate(niz) if x == i] #pokupili smo sve indekse koji imaju neki broj\n",
    "    B = A[:,J]\n",
    "    print(B.shape)\n",
    "    '''U, S, V = np.linalg.svd(B)\n",
    "    baze_prostora_znamenki[i] = U[:,0:30]'''\n",
    "   "
   ]
  },
  {
   "cell_type": "code",
   "execution_count": 31,
   "id": "43b0a809",
   "metadata": {},
   "outputs": [
    {
     "name": "stdout",
     "output_type": "stream",
     "text": [
      "(16, 16, 256)\n",
      "(16, 16, 252)\n",
      "(16, 16, 202)\n",
      "(16, 16, 131)\n",
      "(16, 16, 122)\n",
      "(16, 16, 88)\n",
      "(16, 16, 151)\n",
      "(16, 16, 166)\n",
      "(16, 16, 144)\n",
      "(16, 16, 132)\n"
     ]
    }
   ],
   "source": [
    "#ovo je NOVO !!! \n",
    "#23.2.2022.\n",
    "\n",
    "from tensorly import fold\n",
    "tensor_list = [None] * 10\n",
    "\n",
    "#ovdje pamtimo za svaku znamenku tenzore\n",
    "\n",
    "for i in range (10):\n",
    "    J = [j for j, x in enumerate(niz) if x == i]\n",
    "    B = A[:,J]\n",
    "    tensor_list[i] = tl.vec_to_tensor(B,(16,16,B.shape[1]))\n",
    "    #print(tensor_list[i].shape)\n",
    "    '''for k in range(len(J)):\n",
    "        B = A[:,J[k]] #stupac koji sadrži znamenku i sad ga samo složimo u tenzor\n",
    "        two = np.reshape(B, (16,16,1))\n",
    "        #s = list(tensor_list[i].shape)\n",
    "        tensor_list[i] = tl.fold(tl.unfold(tensor_list[i],mode=1),two,mode=1,shape =(16,16,1))'''\n",
    "        \n",
    "for i in range(10):\n",
    "    U, S1, V1 = np.linalg.svd(tl.unfold(tensor_list[i], 1), full_matrices=False)\n",
    "    V, S2, V2 = np.linalg.svd(tl.unfold(tensor_list[i], 2), full_matrices=False)\n",
    "    W, S3, V3 = np.linalg.svd(tl.unfold(tensor_list[i], 0), full_matrices=False)\n",
    "    \n",
    "    Sa = tl.tenalg.mode_dot(tensor_list[i],np.transpose(U),mode=1,transpose=False)\n",
    "    Sb = tl.tenalg.mode_dot(Sa,np.transpose(V),mode=2,transpose=False)\n",
    "    S = tl.tenalg.mode_dot(Sb,np.transpose(W),mode=0,transpose=False) #core tensor kako se spominje u članku\n",
    "    \n",
    "    print(S.shape)\n",
    "    \n"
   ]
  },
  {
   "cell_type": "code",
   "execution_count": 25,
   "id": "b2921d69",
   "metadata": {},
   "outputs": [
    {
     "name": "stdout",
     "output_type": "stream",
     "text": [
      "<class 'numpy.ndarray'>\n"
     ]
    }
   ],
   "source": [
    "#dims = (16,16,len(J))\n",
    "#print(dims)\n",
    "matrica = np.zeros((16,16))\n",
    "tensor = tl.fold(matrica,mode=0,shape = (16,16))\n",
    "print(type(tensor))"
   ]
  },
  {
   "cell_type": "code",
   "execution_count": 43,
   "id": "fc53197a",
   "metadata": {},
   "outputs": [
    {
     "ename": "IndexError",
     "evalue": "tuple index out of range",
     "output_type": "error",
     "traceback": [
      "\u001b[1;31m---------------------------------------------------------------------------\u001b[0m",
      "\u001b[1;31mIndexError\u001b[0m                                Traceback (most recent call last)",
      "\u001b[1;32m<ipython-input-43-e9c93b520383>\u001b[0m in \u001b[0;36m<module>\u001b[1;34m\u001b[0m\n\u001b[0;32m     14\u001b[0m \u001b[1;32mfor\u001b[0m \u001b[0mk\u001b[0m \u001b[1;32min\u001b[0m \u001b[0mrange\u001b[0m\u001b[1;33m(\u001b[0m\u001b[0mn\u001b[0m\u001b[1;33m)\u001b[0m\u001b[1;33m:\u001b[0m\u001b[1;33m\u001b[0m\u001b[1;33m\u001b[0m\u001b[0m\n\u001b[0;32m     15\u001b[0m     \u001b[0mbazna_i\u001b[0m \u001b[1;33m=\u001b[0m \u001b[0mtl\u001b[0m\u001b[1;33m.\u001b[0m\u001b[0mtenalg\u001b[0m\u001b[1;33m.\u001b[0m\u001b[0mmode_dot\u001b[0m\u001b[1;33m(\u001b[0m\u001b[0mS\u001b[0m\u001b[1;33m[\u001b[0m\u001b[1;33m:\u001b[0m\u001b[1;33m,\u001b[0m\u001b[1;33m:\u001b[0m\u001b[1;33m,\u001b[0m\u001b[0mi\u001b[0m\u001b[1;33m]\u001b[0m\u001b[1;33m,\u001b[0m\u001b[0mnp\u001b[0m\u001b[1;33m.\u001b[0m\u001b[0mtranspose\u001b[0m\u001b[1;33m(\u001b[0m\u001b[0mU\u001b[0m\u001b[1;33m)\u001b[0m\u001b[1;33m,\u001b[0m\u001b[0mmode\u001b[0m\u001b[1;33m=\u001b[0m\u001b[1;36m1\u001b[0m\u001b[1;33m,\u001b[0m\u001b[0mtranspose\u001b[0m\u001b[1;33m=\u001b[0m\u001b[1;32mFalse\u001b[0m\u001b[1;33m)\u001b[0m\u001b[1;33m\u001b[0m\u001b[1;33m\u001b[0m\u001b[0m\n\u001b[1;32m---> 16\u001b[1;33m     \u001b[0mbazna_j\u001b[0m \u001b[1;33m=\u001b[0m \u001b[0mtl\u001b[0m\u001b[1;33m.\u001b[0m\u001b[0mtenalg\u001b[0m\u001b[1;33m.\u001b[0m\u001b[0mmode_dot\u001b[0m\u001b[1;33m(\u001b[0m\u001b[0mbazna_i\u001b[0m\u001b[1;33m,\u001b[0m\u001b[0mnp\u001b[0m\u001b[1;33m.\u001b[0m\u001b[0mtranspose\u001b[0m\u001b[1;33m(\u001b[0m\u001b[0mV\u001b[0m\u001b[1;33m)\u001b[0m\u001b[1;33m,\u001b[0m\u001b[0mmode\u001b[0m\u001b[1;33m=\u001b[0m\u001b[1;36m2\u001b[0m\u001b[1;33m,\u001b[0m\u001b[0mtranspose\u001b[0m\u001b[1;33m=\u001b[0m\u001b[1;32mFalse\u001b[0m\u001b[1;33m)\u001b[0m\u001b[1;33m\u001b[0m\u001b[1;33m\u001b[0m\u001b[0m\n\u001b[0m\u001b[0;32m     17\u001b[0m \u001b[1;33m\u001b[0m\u001b[0m\n\u001b[0;32m     18\u001b[0m \u001b[1;33m\u001b[0m\u001b[0m\n",
      "\u001b[1;32m~\\anaconda3\\lib\\site-packages\\tensorly\\backend\\__init__.py\u001b[0m in \u001b[0;36mwrapped_backend_method\u001b[1;34m(*args, **kwargs)\u001b[0m\n\u001b[0;32m     93\u001b[0m \u001b[1;33m\u001b[0m\u001b[0m\n\u001b[0;32m     94\u001b[0m         \u001b[1;32mdef\u001b[0m \u001b[0mwrapped_backend_method\u001b[0m\u001b[1;33m(\u001b[0m\u001b[1;33m*\u001b[0m\u001b[0margs\u001b[0m\u001b[1;33m,\u001b[0m \u001b[1;33m**\u001b[0m\u001b[0mkwargs\u001b[0m\u001b[1;33m)\u001b[0m\u001b[1;33m:\u001b[0m\u001b[1;33m\u001b[0m\u001b[1;33m\u001b[0m\u001b[0m\n\u001b[1;32m---> 95\u001b[1;33m             \u001b[1;32mreturn\u001b[0m \u001b[0mgetattr\u001b[0m\u001b[1;33m(\u001b[0m\u001b[0mcls\u001b[0m\u001b[1;33m.\u001b[0m\u001b[0m_THREAD_LOCAL_DATA\u001b[0m\u001b[1;33m.\u001b[0m\u001b[0m__dict__\u001b[0m\u001b[1;33m.\u001b[0m\u001b[0mget\u001b[0m\u001b[1;33m(\u001b[0m\u001b[1;34m'backend'\u001b[0m\u001b[1;33m,\u001b[0m \u001b[0mcls\u001b[0m\u001b[1;33m.\u001b[0m\u001b[0m_backend\u001b[0m\u001b[1;33m)\u001b[0m\u001b[1;33m,\u001b[0m \u001b[0mname\u001b[0m\u001b[1;33m)\u001b[0m\u001b[1;33m(\u001b[0m\u001b[1;33m*\u001b[0m\u001b[0margs\u001b[0m\u001b[1;33m,\u001b[0m \u001b[1;33m**\u001b[0m\u001b[0mkwargs\u001b[0m\u001b[1;33m)\u001b[0m\u001b[1;33m\u001b[0m\u001b[1;33m\u001b[0m\u001b[0m\n\u001b[0m\u001b[0;32m     96\u001b[0m \u001b[1;33m\u001b[0m\u001b[0m\n\u001b[0;32m     97\u001b[0m         \u001b[1;31m# We don't use `functools.wraps` here because some of the dispatched\u001b[0m\u001b[1;33m\u001b[0m\u001b[1;33m\u001b[0m\u001b[1;33m\u001b[0m\u001b[0m\n",
      "\u001b[1;32m~\\anaconda3\\lib\\site-packages\\tensorly\\tenalg\\core_tenalg\\n_mode_product.py\u001b[0m in \u001b[0;36mmode_dot\u001b[1;34m(tensor, matrix_or_vector, mode, transpose)\u001b[0m\n\u001b[0;32m     38\u001b[0m             \u001b[1;31m# Test for the validity of the operation\u001b[0m\u001b[1;33m\u001b[0m\u001b[1;33m\u001b[0m\u001b[1;33m\u001b[0m\u001b[0m\n\u001b[0;32m     39\u001b[0m             \u001b[0mdim\u001b[0m \u001b[1;33m=\u001b[0m \u001b[1;36m0\u001b[0m \u001b[1;32mif\u001b[0m \u001b[0mtranspose\u001b[0m \u001b[1;32melse\u001b[0m \u001b[1;36m1\u001b[0m\u001b[1;33m\u001b[0m\u001b[1;33m\u001b[0m\u001b[0m\n\u001b[1;32m---> 40\u001b[1;33m             \u001b[1;32mif\u001b[0m \u001b[0mmatrix_or_vector\u001b[0m\u001b[1;33m.\u001b[0m\u001b[0mshape\u001b[0m\u001b[1;33m[\u001b[0m\u001b[0mdim\u001b[0m\u001b[1;33m]\u001b[0m \u001b[1;33m!=\u001b[0m \u001b[0mtensor\u001b[0m\u001b[1;33m.\u001b[0m\u001b[0mshape\u001b[0m\u001b[1;33m[\u001b[0m\u001b[0mmode\u001b[0m\u001b[1;33m]\u001b[0m\u001b[1;33m:\u001b[0m\u001b[1;33m\u001b[0m\u001b[1;33m\u001b[0m\u001b[0m\n\u001b[0m\u001b[0;32m     41\u001b[0m                 raise ValueError(\n\u001b[0;32m     42\u001b[0m                     'shapes {0} and {1} not aligned in mode-{2} multiplication: {3} (mode {2}) != {4} (dim 1 of matrix)'.format(\n",
      "\u001b[1;31mIndexError\u001b[0m: tuple index out of range"
     ]
    }
   ],
   "source": [
    "'''U, S1, V1 = np.linalg.svd(tl.unfold(tensor_list[0], 1), full_matrices=False)\n",
    "V, S2, V2 = np.linalg.svd(tl.unfold(tensor_list[0], 2), full_matrices=False)\n",
    "W, S3, V3 = np.linalg.svd(tl.unfold(tensor_list[0], 0), full_matrices=False)\n",
    "    \n",
    "Sa = tl.tenalg.mode_dot(tensor_list[0],np.transpose(U),mode=1,transpose=False)\n",
    "Sb = tl.tenalg.mode_dot(Sa,np.transpose(V),mode=2,transpose=False)\n",
    "S = tl.tenalg.mode_dot(Sb,np.transpose(W),mode=0,transpose=False)\n",
    "\n",
    "\n",
    "#pokušavamo doći do bazne matrice \n",
    "\n",
    "n, l, m = tensor_list[0].shape\n",
    "bazna = []\n",
    "for k in range(n):\n",
    "    bazna_i = tl.tenalg.mode_dot(S[:,:,i],np.transpose(U),mode=1,transpose=False)\n",
    "    bazna_j = tl.tenalg.mode_dot(bazna_i,np.transpose(V),mode=2,transpose=False)'''\n",
    "    \n",
    "    "
   ]
  },
  {
   "cell_type": "markdown",
   "id": "f0daea07",
   "metadata": {},
   "source": [
    "## Novi podaci"
   ]
  },
  {
   "cell_type": "code",
   "execution_count": 8,
   "id": "3699e710",
   "metadata": {},
   "outputs": [],
   "source": [
    "import gzip\n",
    "f = gzip.open('t10k-images-idx3-ubyte.gz','r')\n",
    "\n",
    "image_size = 28\n",
    "num_images = 5\n",
    "\n",
    "import numpy as np\n",
    "f.read(16)\n",
    "buf = f.read(image_size * image_size * num_images)\n",
    "data = np.frombuffer(buf, dtype=np.uint8).astype(np.float32)\n",
    "data = data.reshape(num_images, image_size, image_size, 1)"
   ]
  },
  {
   "cell_type": "code",
   "execution_count": 9,
   "id": "7ccbd81a",
   "metadata": {},
   "outputs": [
    {
     "data": {
      "image/png": "[encoded data removed]",
      "text/plain": [
       "<Figure size 432x288 with 1 Axes>"
      ]
     },
     "metadata": {
      "needs_background": "light"
     },
     "output_type": "display_data"
    }
   ],
   "source": [
    "import matplotlib.pyplot as plt\n",
    "image = np.asarray(data[0]).squeeze()\n",
    "plt.imshow(image)\n",
    "plt.show()"
   ]
  },
  {
   "cell_type": "code",
   "execution_count": null,
   "id": "484a77ab",
   "metadata": {},
   "outputs": [],
   "source": []
  }
 ],
 "metadata": {
  "kernelspec": {
   "display_name": "Python 3",
   "language": "python",
   "name": "python3"
  },
  "language_info": {
   "codemirror_mode": {
    "name": "ipython",
    "version": 3
   },
   "file_extension": ".py",
   "mimetype": "text/x-python",
   "name": "python",
   "nbconvert_exporter": "python",
   "pygments_lexer": "ipython3",
   "version": "3.8.8"
  }
 },
 "nbformat": 4,
 "nbformat_minor": 5
}
