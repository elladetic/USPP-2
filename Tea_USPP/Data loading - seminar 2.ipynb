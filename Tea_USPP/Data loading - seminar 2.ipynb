{
 "cells": [
  {
   "cell_type": "code",
   "execution_count": 1,
   "id": "4d3b7e66",
   "metadata": {},
   "outputs": [],
   "source": [
    "import scipy.io\n",
    "import numpy as np"
   ]
  },
  {
   "cell_type": "code",
   "execution_count": 2,
   "id": "e2c45389",
   "metadata": {},
   "outputs": [
    {
     "name": "stdout",
     "output_type": "stream",
     "text": [
      "(256, 1707)\n"
     ]
    }
   ],
   "source": [
    "mat = scipy.io.loadmat('train_znamenke.mat')\n",
    "#print(mat)\n",
    "\n",
    "A = mat['azip']\n",
    "print(np.shape(A))"
   ]
  },
  {
   "cell_type": "code",
   "execution_count": 3,
   "id": "fa5d26df",
   "metadata": {},
   "outputs": [
    {
     "name": "stdout",
     "output_type": "stream",
     "text": [
      "(1, 1707)\n"
     ]
    }
   ],
   "source": [
    "mat1 = scipy.io.loadmat('train_correct_output.mat')\n",
    "#print(mat)\n",
    "\n",
    "D = mat1['dzip']\n",
    "print(np.shape(D))\n",
    "niz = D[0]"
   ]
  },
  {
   "cell_type": "code",
   "execution_count": 20,
   "id": "6d1970d8",
   "metadata": {},
   "outputs": [
    {
     "data": {
      "text/plain": [
       "array([-1.   , -1.   , -1.   , -1.   , -1.   , -1.   , -1.   , -0.631,\n",
       "        0.862, -0.167, -1.   , -1.   , -1.   , -1.   , -1.   , -1.   ,\n",
       "       -1.   , -1.   , -1.   , -1.   , -1.   , -1.   , -0.992,  0.297,\n",
       "        1.   ,  0.307, -1.   , -1.   , -1.   , -1.   , -1.   , -1.   ,\n",
       "       -1.   , -1.   , -1.   , -1.   , -1.   , -1.   , -0.41 ,  1.   ,\n",
       "        0.986, -0.565, -1.   , -1.   , -1.   , -1.   , -1.   , -1.   ,\n",
       "       -1.   , -1.   , -1.   , -1.   , -1.   , -0.683,  0.825,  1.   ,\n",
       "        0.562, -1.   , -1.   , -1.   , -1.   , -1.   , -1.   , -1.   ,\n",
       "       -1.   , -1.   , -1.   , -1.   , -0.938,  0.54 ,  1.   ,  0.778,\n",
       "       -0.715, -1.   , -1.   , -1.   , -1.   , -1.   , -1.   , -1.   ,\n",
       "       -1.   , -1.   , -1.   , -1.   ,  0.1  ,  1.   ,  0.922, -0.439,\n",
       "       -1.   , -1.   , -1.   , -1.   , -1.   , -1.   , -1.   , -1.   ,\n",
       "       -1.   , -1.   , -1.   , -0.257,  0.95 ,  1.   , -0.162, -1.   ,\n",
       "       -1.   , -1.   , -0.987, -0.714, -0.832, -1.   , -1.   , -1.   ,\n",
       "       -1.   , -1.   , -0.797,  0.909,  1.   ,  0.3  , -0.961, -1.   ,\n",
       "       -1.   , -0.55 ,  0.485,  0.996,  0.867,  0.092, -1.   , -1.   ,\n",
       "       -1.   , -1.   ,  0.278,  1.   ,  0.877, -0.824, -1.   , -0.905,\n",
       "        0.145,  0.977,  1.   ,  1.   ,  1.   ,  0.99 , -0.745, -1.   ,\n",
       "       -1.   , -0.95 ,  0.847,  1.   ,  0.327, -1.   , -1.   ,  0.355,\n",
       "        1.   ,  0.655, -0.109, -0.185,  1.   ,  0.988, -0.723, -1.   ,\n",
       "       -1.   , -0.63 ,  1.   ,  1.   ,  0.068, -0.925,  0.113,  0.96 ,\n",
       "        0.308, -0.884, -1.   , -0.075,  1.   ,  0.641, -0.995, -1.   ,\n",
       "       -1.   , -0.677,  1.   ,  1.   ,  0.753,  0.341,  1.   ,  0.707,\n",
       "       -0.942, -1.   , -1.   ,  0.545,  1.   ,  0.027, -1.   , -1.   ,\n",
       "       -1.   , -0.903,  0.792,  1.   ,  1.   ,  1.   ,  1.   ,  0.536,\n",
       "        0.184,  0.812,  0.837,  0.978,  0.864, -0.63 , -1.   , -1.   ,\n",
       "       -1.   , -1.   , -0.452,  0.828,  1.   ,  1.   ,  1.   ,  1.   ,\n",
       "        1.   ,  1.   ,  1.   ,  1.   ,  0.135, -1.   , -1.   , -1.   ,\n",
       "       -1.   , -1.   , -1.   , -0.483,  0.813,  1.   ,  1.   ,  1.   ,\n",
       "        1.   ,  1.   ,  1.   ,  0.219, -0.943, -1.   , -1.   , -1.   ,\n",
       "       -1.   , -1.   , -1.   , -1.   , -0.974, -0.429,  0.304,  0.823,\n",
       "        1.   ,  0.482, -0.474, -0.991, -1.   , -1.   , -1.   , -1.   ])"
      ]
     },
     "execution_count": 20,
     "metadata": {},
     "output_type": "execute_result"
    }
   ],
   "source": [
    "A[:,0]"
   ]
  },
  {
   "cell_type": "code",
   "execution_count": 21,
   "id": "5ea38cb3",
   "metadata": {},
   "outputs": [
    {
     "name": "stdout",
     "output_type": "stream",
     "text": [
      "Collecting tensorly\n",
      "  Downloading tensorly-0.7.0-py3-none-any.whl (198 kB)\n",
      "Requirement already satisfied: nose in c:\\users\\38595\\anaconda3\\lib\\site-packages (from tensorly) (1.3.7)\n",
      "Requirement already satisfied: scipy in c:\\users\\38595\\anaconda3\\lib\\site-packages (from tensorly) (1.6.2)\n",
      "Requirement already satisfied: numpy in c:\\users\\38595\\anaconda3\\lib\\site-packages (from tensorly) (1.20.1)\n",
      "Installing collected packages: tensorly\n",
      "Successfully installed tensorly-0.7.0\n"
     ]
    }
   ],
   "source": [
    "!pip install tensorly"
   ]
  },
  {
   "cell_type": "code",
   "execution_count": 22,
   "id": "da65b714",
   "metadata": {},
   "outputs": [],
   "source": [
    "import tensorly as tf"
   ]
  },
  {
   "cell_type": "code",
   "execution_count": null,
   "id": "54edea60",
   "metadata": {},
   "outputs": [],
   "source": []
  },
  {
   "cell_type": "code",
   "execution_count": null,
   "id": "b099ed1b",
   "metadata": {},
   "outputs": [],
   "source": []
  },
  {
   "cell_type": "markdown",
   "id": "58351e1d",
   "metadata": {},
   "source": [
    "## Novi podaci "
   ]
  },
  {
   "cell_type": "code",
   "execution_count": 7,
   "id": "3699e710",
   "metadata": {},
   "outputs": [],
   "source": [
    "import gzip\n",
    "f = gzip.open('t10k-images-idx3-ubyte.gz','r')\n",
    "\n",
    "image_size = 28\n",
    "num_images = 5\n",
    "\n",
    "import numpy as np\n",
    "f.read(16)\n",
    "buf = f.read(image_size * image_size * num_images)\n",
    "data = np.frombuffer(buf, dtype=np.uint8).astype(np.float32)\n",
    "data = data.reshape(num_images, image_size, image_size, 1)"
   ]
  },
  {
   "cell_type": "code",
   "execution_count": 10,
   "id": "7ccbd81a",
   "metadata": {},
   "outputs": [
    {
     "data": {
      "image/png": "[encoded data removed]",
      "text/plain": [
       "<Figure size 432x288 with 1 Axes>"
      ]
     },
     "metadata": {
      "needs_background": "light"
     },
     "output_type": "display_data"
    }
   ],
   "source": [
    "import matplotlib.pyplot as plt\n",
    "image = np.asarray(data[0]).squeeze()\n",
    "plt.imshow(image)\n",
    "plt.show()"
   ]
  },
  {
   "cell_type": "code",
   "execution_count": null,
   "id": "484a77ab",
   "metadata": {},
   "outputs": [],
   "source": []
  }
 ],
 "metadata": {
  "kernelspec": {
   "display_name": "Python 3",
   "language": "python",
   "name": "python3"
  },
  "language_info": {
   "codemirror_mode": {
    "name": "ipython",
    "version": 3
   },
   "file_extension": ".py",
   "mimetype": "text/x-python",
   "name": "python",
   "nbconvert_exporter": "python",
   "pygments_lexer": "ipython3",
   "version": "3.8.8"
  }
 },
 "nbformat": 4,
 "nbformat_minor": 5
}
