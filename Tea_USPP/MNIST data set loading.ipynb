{
 "cells": [
  {
   "cell_type": "code",
   "execution_count": 1,
   "id": "a8c5935b",
   "metadata": {},
   "outputs": [],
   "source": [
    "import keras\n",
    "from keras.datasets import mnist"
   ]
  },
  {
   "cell_type": "code",
   "execution_count": 2,
   "id": "588ccc5c",
   "metadata": {},
   "outputs": [
    {
     "name": "stdout",
     "output_type": "stream",
     "text": [
      "X_train: (60000, 28, 28)\n",
      "Y_train: (60000,)\n",
      "X_test:  (10000, 28, 28)\n",
      "Y_test:  (10000,)\n"
     ]
    }
   ],
   "source": [
    "(train_X, train_y), (test_X, test_y) = mnist.load_data()\n",
    "\n",
    "print('X_train: ' + str(train_X.shape))\n",
    "print('Y_train: ' + str(train_y.shape))\n",
    "print('X_test:  '  + str(test_X.shape))\n",
    "print('Y_test:  '  + str(test_y.shape))"
   ]
  },
  {
   "cell_type": "code",
   "execution_count": 4,
   "id": "863d7adf",
   "metadata": {},
   "outputs": [
    {
     "name": "stdout",
     "output_type": "stream",
     "text": [
      "(784, 1)\n"
     ]
    },
    {
     "data": {
      "image/png": "[encoded data removed]",
      "text/plain": [
       "<Figure size 432x288 with 1 Axes>"
      ]
     },
     "metadata": {
      "needs_background": "light"
     },
     "output_type": "display_data"
    }
   ],
   "source": [
    "from matplotlib import pyplot\n",
    "import numpy as np\n",
    "\n",
    "\n",
    "nova = np.reshape(train_X[0],(28*28, 1))\n",
    "\n",
    "print(nova.shape)\n",
    "image = np.reshape(nova, (28,28))\n",
    "pyplot.imshow(image,cmap='gray')\n",
    "pyplot.show()\n",
    "\n",
    "\n",
    "A_train = np.empty([28*28,60000])\n",
    "for i in range(60000):\n",
    "    nova = np.reshape(train_X[i],(28*28,))\n",
    "    A_train[:,i] = nova\n",
    "    \n",
    "\n",
    "#A train nam je matrica u kojoj je svaki stupac jedna znamenka 28 * 28    "
   ]
  },
  {
   "cell_type": "markdown",
   "id": "2ad0451e",
   "metadata": {},
   "source": [
    "## Provjera"
   ]
  },
  {
   "cell_type": "code",
   "execution_count": 6,
   "id": "37d0f781",
   "metadata": {},
   "outputs": [
    {
     "data": {
      "image/png": "[encoded data removed]",
      "text/plain": [
       "<Figure size 432x288 with 1 Axes>"
      ]
     },
     "metadata": {
      "needs_background": "light"
     },
     "output_type": "display_data"
    }
   ],
   "source": [
    "A_train\n",
    "\n",
    "#nova = np.reshape(A_train[:,0],(28*28, 1))\n",
    "\n",
    "#print(nova)\n",
    "image = np.reshape(A_train[:,56788], (28,28))\n",
    "pyplot.imshow(image,cmap='gray')\n",
    "pyplot.show()"
   ]
  },
  {
   "cell_type": "code",
   "execution_count": 7,
   "id": "c7f722ef",
   "metadata": {},
   "outputs": [
    {
     "name": "stdout",
     "output_type": "stream",
     "text": [
      "9\n"
     ]
    }
   ],
   "source": [
    "print(train_y[56788])"
   ]
  },
  {
   "cell_type": "markdown",
   "id": "39de352b",
   "metadata": {},
   "source": [
    "## Podaci za test"
   ]
  },
  {
   "cell_type": "code",
   "execution_count": 8,
   "id": "c8c1d4c7",
   "metadata": {},
   "outputs": [],
   "source": [
    "A_test = np.empty([28*28,10000])\n",
    "for i in range(10000):\n",
    "    nova = np.reshape(test_X[i],(28*28,))\n",
    "    A_test[:,i] = nova"
   ]
  },
  {
   "cell_type": "markdown",
   "id": "92a0723e",
   "metadata": {},
   "source": [
    "## Provjera"
   ]
  },
  {
   "cell_type": "code",
   "execution_count": 13,
   "id": "0915d65a",
   "metadata": {},
   "outputs": [
    {
     "data": {
      "image/png": "[encoded data removed]",
      "text/plain": [
       "<Figure size 432x288 with 1 Axes>"
      ]
     },
     "metadata": {
      "needs_background": "light"
     },
     "output_type": "display_data"
    }
   ],
   "source": [
    "image = np.reshape(A_test[:,57], (28,28))\n",
    "pyplot.imshow(image,cmap='gray')\n",
    "pyplot.show()"
   ]
  },
  {
   "cell_type": "code",
   "execution_count": 12,
   "id": "4449514c",
   "metadata": {},
   "outputs": [
    {
     "name": "stdout",
     "output_type": "stream",
     "text": [
      "1\n"
     ]
    }
   ],
   "source": [
    "print(test_y[57])"
   ]
  },
  {
   "cell_type": "code",
   "execution_count": null,
   "id": "e854f14f",
   "metadata": {},
   "outputs": [],
   "source": []
  }
 ],
 "metadata": {
  "kernelspec": {
   "display_name": "Python 3",
   "language": "python",
   "name": "python3"
  },
  "language_info": {
   "codemirror_mode": {
    "name": "ipython",
    "version": 3
   },
   "file_extension": ".py",
   "mimetype": "text/x-python",
   "name": "python",
   "nbconvert_exporter": "python",
   "pygments_lexer": "ipython3",
   "version": "3.8.8"
  }
 },
 "nbformat": 4,
 "nbformat_minor": 5
}
