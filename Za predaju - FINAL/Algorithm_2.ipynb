{
 "cells": [
  {
   "cell_type": "markdown",
   "metadata": {},
   "source": [
    "#### Algorithm 2"
   ]
  },
  {
   "cell_type": "code",
   "execution_count": 33,
   "metadata": {},
   "outputs": [],
   "source": [
    "#import scipy.io\n",
    "import numpy as np\n",
    "#import pandas as pd\n",
    "import seaborn as sns\n",
    "import tensorly as tl\n",
    "#import math \n",
    "#import matplotlib.pyplot as plt\n",
    "#import gzip \n",
    "from keras.datasets import mnist\n",
    "import time\n",
    "from tqdm import tqdm\n",
    "\n",
    "sns.set_theme()"
   ]
  },
  {
   "cell_type": "code",
   "execution_count": 34,
   "metadata": {},
   "outputs": [],
   "source": [
    "def construct_tensor(A_train, D_train, k):\n",
    "    \n",
    "    #print(D_train[0])\n",
    "    makszn = (D_train[0]== np.bincount(D_train[0]).argmax()).sum()\n",
    "    \n",
    "    T = np.zeros((A_train.shape[0],makszn,k))\n",
    "\n",
    "    for i in range(k):    \n",
    "        for j in range(makszn):       \n",
    "            if(j >= len(np.where(D_train==i)[1])):\n",
    "                mjesto = np.random.randint(0, len(np.where(D_train==i)[1])-1)           \n",
    "                T[:,j,i]=A_train[:, np.where(D_train == i)[1]][:,mjesto]\n",
    "        \n",
    "            else:\n",
    "                T[:,j,i]=A_train[:, np.where(D_train == i)[1]][:,j]\n",
    "    \n",
    "    return(T)"
   ]
  },
  {
   "cell_type": "code",
   "execution_count": 35,
   "metadata": {},
   "outputs": [],
   "source": [
    "def multiplication(T, M, mode): \n",
    "    \n",
    "    descriptor = list(T.shape)\n",
    "    descriptor[mode] = M.shape[0]\n",
    "    pom = tl.unfold(T, mode)\n",
    "    \n",
    "    return (tl.fold( M @ pom, mode, descriptor))   "
   ]
  },
  {
   "cell_type": "code",
   "execution_count": 36,
   "metadata": {},
   "outputs": [],
   "source": [
    "def HOSVD(T, p, q): \n",
    "    \n",
    "    U1, _, _ = np.linalg.svd(tl.unfold(T, 0), full_matrices=False)\n",
    "    U2, _, _ = np.linalg.svd(tl.unfold(T, 1), full_matrices=False)\n",
    "    \n",
    "    F_ = multiplication(T, np.transpose(U1[:, 0:p]), 0)\n",
    "    F = multiplication(F_, np.transpose(U2[:, 0:q]), 1)\n",
    "    \n",
    "    return F, U1[:, 0:p]"
   ]
  },
  {
   "cell_type": "code",
   "execution_count": 37,
   "metadata": {},
   "outputs": [],
   "source": [
    "def alg2_train(F, k):\n",
    "    \n",
    "    B = np.zeros((F.shape[0], k, k))\n",
    "    \n",
    "    for mi in range(F.shape[2]):\n",
    "        U, _, _ = np.linalg.svd(F[:, :, mi], full_matrices=False)\n",
    "        B[:, :, mi] = U[:, 0:k]\n",
    "        \n",
    "    return(B)"
   ]
  },
  {
   "cell_type": "code",
   "execution_count": 38,
   "metadata": {},
   "outputs": [],
   "source": [
    "def alg2_test(A_test, B, U_p):\n",
    "    \n",
    "    digits = []\n",
    "    \n",
    "    for j in range(A_test.shape[1]): \n",
    "        \n",
    "        d = A_test[:, j]\n",
    "        d = np.transpose(U_p) @ d \n",
    "        \n",
    "        r_min =  np.Inf\n",
    "        \n",
    "        for k in range(B.shape[2]): \n",
    "\n",
    "            r = np.linalg.norm(d - (B[:,:,k] @ (np.transpose(B[:,:, k]) @ d)))\n",
    "            \n",
    "            if(r < r_min):\n",
    "                r_min = r \n",
    "                digit = k\n",
    "                \n",
    "        digits.append(digit)\n",
    "\n",
    "    return digits "
   ]
  },
  {
   "cell_type": "markdown",
   "metadata": {},
   "source": [
    "#### Application of the algorithm for the MNIST digits"
   ]
  },
  {
   "cell_type": "code",
   "execution_count": 23,
   "metadata": {},
   "outputs": [],
   "source": [
    "(train_X, train_y), (test_X, test_y) = mnist.load_data()\n",
    "\n",
    "train_y = np.transpose(np.reshape(train_y, (60000,1)))\n",
    "test_y = np.transpose(np.reshape(test_y, (10000,1)))"
   ]
  },
  {
   "cell_type": "code",
   "execution_count": 41,
   "metadata": {},
   "outputs": [
    {
     "ename": "NameError",
     "evalue": "name 'train_X' is not defined",
     "output_type": "error",
     "traceback": [
      "\u001b[0;31m---------------------------------------------------------------------------\u001b[0m",
      "\u001b[0;31mNameError\u001b[0m                                 Traceback (most recent call last)",
      "\u001b[0;32m/var/folders/d3/xr9k6gp148s_pc6q399vjm2h0000gn/T/ipykernel_8026/771624620.py\u001b[0m in \u001b[0;36m<module>\u001b[0;34m\u001b[0m\n\u001b[0;32m----> 1\u001b[0;31m \u001b[0mA_train\u001b[0m \u001b[0;34m=\u001b[0m \u001b[0mnp\u001b[0m\u001b[0;34m.\u001b[0m\u001b[0mempty\u001b[0m\u001b[0;34m(\u001b[0m\u001b[0;34m[\u001b[0m\u001b[0mtrain_X\u001b[0m\u001b[0;34m.\u001b[0m\u001b[0mshape\u001b[0m\u001b[0;34m[\u001b[0m\u001b[0;36m1\u001b[0m\u001b[0;34m]\u001b[0m \u001b[0;34m**\u001b[0m \u001b[0;36m2\u001b[0m\u001b[0;34m,\u001b[0m \u001b[0mtrain_X\u001b[0m\u001b[0;34m.\u001b[0m\u001b[0mshape\u001b[0m\u001b[0;34m[\u001b[0m\u001b[0;36m0\u001b[0m\u001b[0;34m]\u001b[0m\u001b[0;34m]\u001b[0m\u001b[0;34m)\u001b[0m\u001b[0;34m\u001b[0m\u001b[0;34m\u001b[0m\u001b[0m\n\u001b[0m\u001b[1;32m      2\u001b[0m \u001b[0;34m\u001b[0m\u001b[0m\n\u001b[1;32m      3\u001b[0m \u001b[0;32mfor\u001b[0m \u001b[0mi\u001b[0m \u001b[0;32min\u001b[0m \u001b[0mrange\u001b[0m\u001b[0;34m(\u001b[0m\u001b[0mtrain_X\u001b[0m\u001b[0;34m.\u001b[0m\u001b[0mshape\u001b[0m\u001b[0;34m[\u001b[0m\u001b[0;36m0\u001b[0m\u001b[0;34m]\u001b[0m\u001b[0;34m)\u001b[0m\u001b[0;34m:\u001b[0m\u001b[0;34m\u001b[0m\u001b[0;34m\u001b[0m\u001b[0m\n\u001b[1;32m      4\u001b[0m     \u001b[0mA_train\u001b[0m\u001b[0;34m[\u001b[0m\u001b[0;34m:\u001b[0m\u001b[0;34m,\u001b[0m\u001b[0mi\u001b[0m\u001b[0;34m]\u001b[0m \u001b[0;34m=\u001b[0m \u001b[0mnp\u001b[0m\u001b[0;34m.\u001b[0m\u001b[0mreshape\u001b[0m\u001b[0;34m(\u001b[0m\u001b[0mtrain_X\u001b[0m\u001b[0;34m[\u001b[0m\u001b[0mi\u001b[0m\u001b[0;34m]\u001b[0m\u001b[0;34m,\u001b[0m\u001b[0;34m(\u001b[0m\u001b[0;36m28\u001b[0m\u001b[0;34m*\u001b[0m\u001b[0;36m28\u001b[0m\u001b[0;34m,\u001b[0m\u001b[0;34m)\u001b[0m\u001b[0;34m)\u001b[0m\u001b[0;34m\u001b[0m\u001b[0;34m\u001b[0m\u001b[0m\n\u001b[1;32m      5\u001b[0m \u001b[0;34m\u001b[0m\u001b[0m\n",
      "\u001b[0;31mNameError\u001b[0m: name 'train_X' is not defined"
     ]
    }
   ],
   "source": [
    "A_train = np.empty([train_X.shape[1] ** 2, train_X.shape[0]])\n",
    "\n",
    "for i in range(train_X.shape[0]):\n",
    "    A_train[:,i] = np.reshape(train_X[i],(28*28,)) \n",
    "    \n",
    "D_train = train_y\n",
    "\n",
    "A_test = np.empty([test_X.shape[1] ** 2, test_X.shape[0]])\n",
    "\n",
    "for i in range(test_X.shape[0]):\n",
    "    A_test[:,i] = np.reshape(test_X[i],(test_X.shape[1]**2,))\n",
    "    \n",
    "D_test = test_y\n",
    "\n",
    "k = np.unique(D_train).size\n",
    "\n",
    "p = 250\n",
    "\n",
    "q = 100"
   ]
  },
  {
   "cell_type": "code",
   "execution_count": 49,
   "metadata": {},
   "outputs": [
    {
     "data": {
      "text/plain": [
       "0.9378"
      ]
     },
     "execution_count": 49,
     "metadata": {},
     "output_type": "execute_result"
    }
   ],
   "source": [
    "T = construct_tensor(A_train[:, :5000], D_train[:, :5000], k)\n",
    "\n",
    "F, U_p = HOSVD(T, p, q) \n",
    "\n",
    "B = alg2_train(F,k)\n",
    "\n",
    "predictions = alg2_test(A_test, B, U_p)\n",
    "\n",
    "np.count_nonzero(predictions == D_test[0]) / len(D_test[0])"
   ]
  },
  {
   "cell_type": "code",
   "execution_count": 42,
   "metadata": {},
   "outputs": [],
   "source": [
    "import scipy.io\n",
    "\n",
    "mat = scipy.io.loadmat('azip.mat')\n",
    "A_train = mat['azip'] \n",
    "mat = scipy.io.loadmat('dzip.mat')\n",
    "D_train = mat['dzip'] \n",
    "\n",
    "mat = scipy.io.loadmat('atest.mat')\n",
    "A_test = mat['testzip'] \n",
    "mat = scipy.io.loadmat('dtest.mat')\n",
    "D_test = mat['dtest'] \n",
    "\n",
    "k = np.unique(D_train).size"
   ]
  },
  {
   "cell_type": "code",
   "execution_count": 43,
   "metadata": {},
   "outputs": [
    {
     "data": {
      "text/plain": [
       "0.9252615844544095"
      ]
     },
     "execution_count": 43,
     "metadata": {},
     "output_type": "execute_result"
    }
   ],
   "source": [
    "T = construct_tensor(A_train, D_train, k)\n",
    "\n",
    "F, U_p = HOSVD(T, 128, 128) \n",
    "\n",
    "B = alg2_train(F,k)\n",
    "\n",
    "predictions = alg2_test(A_test, B, U_p)\n",
    "\n",
    "np.count_nonzero(predictions == D_test[0]) / len(D_test[0])"
   ]
  },
  {
   "cell_type": "code",
   "execution_count": 57,
   "metadata": {},
   "outputs": [],
   "source": [
    "accuracy_3 = list()\n",
    "time_list3 = list()\n",
    "\n",
    "p_list = np.array((32,48,64,128))\n",
    "q_list = np.array((32,48, 64,128))\n",
    "\n",
    "T = construct_tensor(A_train, D_train, k)\n",
    "\n",
    "for i in range(p_list.shape[0]): \n",
    "    \n",
    "    start_time = time.time()\n",
    "    \n",
    "    F, U_p = HOSVD(T, p_list[i], q_list[i]) \n",
    "    B = alg2_train(F,10)\n",
    "    \n",
    "    predictions = alg2_test(A_test, B, U_p)\n",
    "    \n",
    "    pom_ = np.count_nonzero(predictions == D_test[0]) / len(D_test[0])\n",
    "    time_ = time.time() - start_time  \n",
    "    \n",
    "    accuracy_3.append(pom_)   \n",
    "    time_list3.append(time_)"
   ]
  },
  {
   "cell_type": "code",
   "execution_count": 55,
   "metadata": {},
   "outputs": [
    {
     "data": {
      "text/plain": [
       "[2.6388981342315674, 1.3534200191497803, 1.3878858089447021, 1.236732006072998]"
      ]
     },
     "execution_count": 55,
     "metadata": {},
     "output_type": "execute_result"
    }
   ],
   "source": [
    "time_list3"
   ]
  },
  {
   "cell_type": "code",
   "execution_count": 62,
   "metadata": {},
   "outputs": [
    {
     "data": {
      "text/plain": [
       "<AxesSubplot:>"
      ]
     },
     "execution_count": 62,
     "metadata": {},
     "output_type": "execute_result"
    },
    {
     "data": {
      "image/png": "[encoded data removed]",
      "text/plain": [
       "<Figure size 432x288 with 1 Axes>"
      ]
     },
     "metadata": {},
     "output_type": "display_data"
    }
   ],
   "source": [
    "import pandas as pd\n",
    "\n",
    "df= pd.DataFrame(data = {'Točnost':accuracy_3}, index = ['32','48','64','128']) #točnost\n",
    "sns.scatterplot(data = df)"
   ]
  },
  {
   "cell_type": "code",
   "execution_count": 61,
   "metadata": {},
   "outputs": [
    {
     "data": {
      "text/plain": [
       "<AxesSubplot:>"
      ]
     },
     "execution_count": 61,
     "metadata": {},
     "output_type": "execute_result"
    },
    {
     "data": {
      "image/png": "[encoded data removed]",
      "text/plain": [
       "<Figure size 432x288 with 1 Axes>"
      ]
     },
     "metadata": {},
     "output_type": "display_data"
    }
   ],
   "source": [
    "df= pd.DataFrame(data = {'Vrijeme izvršavanja( u sekundama)': time_list3}, index = ['32','48', '64','128']) #točnost\n",
    "sns.scatterplot(data = df)"
   ]
  },
  {
   "cell_type": "code",
   "execution_count": null,
   "metadata": {},
   "outputs": [],
   "source": []
  }
 ],
 "metadata": {
  "interpreter": {
   "hash": "eeb592eeb14baf80ba7e3ad598b9cc718d92fa62785d72005ca19f7c0e0c833d"
  },
  "kernelspec": {
   "display_name": "Python 3.8.5 ('base')",
   "language": "python",
   "name": "python3"
  },
  "language_info": {
   "codemirror_mode": {
    "name": "ipython",
    "version": 3
   },
   "file_extension": ".py",
   "mimetype": "text/x-python",
   "name": "python",
   "nbconvert_exporter": "python",
   "pygments_lexer": "ipython3",
   "version": "3.8.5"
  },
  "orig_nbformat": 4
 },
 "nbformat": 4,
 "nbformat_minor": 2
}
