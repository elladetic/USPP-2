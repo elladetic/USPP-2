{
 "cells": [
  {
   "cell_type": "markdown",
   "metadata": {},
   "source": [
    "#### Algorithm 1\n",
    "##### Initial version"
   ]
  },
  {
   "cell_type": "code",
   "execution_count": 1,
   "metadata": {},
   "outputs": [],
   "source": [
    "import scipy.io\n",
    "import numpy as np\n",
    "import pandas as pd\n",
    "import seaborn as sns\n",
    "import tensorly as tl\n",
    "import math \n",
    "import matplotlib.pyplot as plt"
   ]
  },
  {
   "cell_type": "code",
   "execution_count": 3,
   "metadata": {},
   "outputs": [],
   "source": [
    "sns.set_theme()"
   ]
  },
  {
   "cell_type": "code",
   "execution_count": 4,
   "metadata": {},
   "outputs": [],
   "source": [
    "##reading old data\n",
    "mat = scipy.io.loadmat('azip.mat')\n",
    "A_train = mat['azip'] #matrix 265 x 1707, one column is one digit\n",
    "mat = scipy.io.loadmat('dzip.mat')\n",
    "D_train = mat['dzip'] #matrix 1 x 1707, info about A\n",
    "k = np.unique(D_train).size"
   ]
  },
  {
   "cell_type": "code",
   "execution_count": 5,
   "metadata": {},
   "outputs": [],
   "source": [
    "#reading unknown data\n",
    "mat = scipy.io.loadmat('atest.mat')\n",
    "A_test = mat['testzip'] \n",
    "mat = scipy.io.loadmat('dtest.mat')\n",
    "D_test = mat['dtest'] "
   ]
  },
  {
   "cell_type": "code",
   "execution_count": 10,
   "metadata": {},
   "outputs": [],
   "source": [
    "def my_HOSVD(T):\n",
    "\n",
    "    U1, _, _ = np.linalg.svd(tl.unfold(T, 0), full_matrices=False) \n",
    "    U2, _, _ = np.linalg.svd(tl.unfold(T, 1), full_matrices=False) \n",
    "    U3, _, _ = np.linalg.svd(tl.unfold(T, 2), full_matrices=False)\n",
    "\n",
    "    S = tl.tenalg.multi_mode_dot(T, [np.transpose(U1),np.transpose(U2),np.transpose(U3)], modes = [0,1,2], transpose=False)\n",
    "    \n",
    "    return(S, U1, U2, U3)"
   ]
  },
  {
   "cell_type": "code",
   "execution_count": 15,
   "metadata": {},
   "outputs": [],
   "source": [
    "def alg1_train(A_train, D_train,  k):\n",
    "    #prima matricu podataka A gdje je jedan stupac jedan podataka, matricu D koja opisuje A i broj klastera\n",
    "    #vraća listu duljine k tenzora čiji su frontalni slicevi bazne matrice k-tog klastera\n",
    "    \n",
    "    #T = np.zeros((int(math.sqrt(A_train.shape[0])),int(math.sqrt(A_train.shape[0])), A_train.shape[1]))\n",
    "    tensor = [None] * k\n",
    "    \n",
    "    for i in range(k):\n",
    "\n",
    "        T = tl.vec_to_tensor(A_train[:, np.where(D_train == i)[1]], (16,16,A_train[:, np.where(D_train == i)[1]].shape[1])) #tenzor i-te znamenke \n",
    "        S, U1, U2, _ = my_HOSVD(T)\n",
    "    \n",
    "        tensor[i] = np.zeros((int(math.sqrt(A_train.shape[0])),int(math.sqrt(A_train.shape[0])), S.shape[2]))\n",
    "\n",
    "        for j in range(S.shape[2]):\n",
    "            pom = np.matmul(U1, S[:,:,j])\n",
    "            tensor[i][:, :, j] = np.matmul(pom, np.transpose(U2)) / np.linalg.norm(np.matmul(pom, np.transpose(U2)))\n",
    "            \n",
    "    return(tensor)"
   ]
  },
  {
   "cell_type": "code",
   "execution_count": 17,
   "metadata": {},
   "outputs": [
    {
     "data": {
      "text/plain": [
       "0.17638266068759342"
      ]
     },
     "execution_count": 17,
     "metadata": {},
     "output_type": "execute_result"
    }
   ],
   "source": [
    "output = alg1_train(A_train,D_train, k)\n",
    "correct = 0\n",
    "\n",
    "for i in range(A_test.shape[1]): \n",
    "    D = np.reshape((A_test[:, i] / np.linalg.norm(A_test[:, i])), (16,16))\n",
    "    min_R = 1\n",
    "    min_zn = 0 \n",
    "    \n",
    "    for j in range(len(output)):\n",
    "        R = 1\n",
    "        for z in range(output[j].shape[2]):\n",
    "            R -= np.sum( np.trace(np.matmul(np.transpose(D), output[j][:,:,z])) ** 2)\n",
    "            \n",
    "        if( R < min_R): \n",
    "            min_R = R\n",
    "            min_zn = j\n",
    "            \n",
    "    if( D_test[0][i] == min_zn):\n",
    "        correct += 1\n",
    "    \n",
    "correct / D_test.shape[1]"
   ]
  },
  {
   "cell_type": "markdown",
   "metadata": {},
   "source": [
    "#### Algoritam 2"
   ]
  },
  {
   "cell_type": "code",
   "execution_count": 126,
   "metadata": {},
   "outputs": [],
   "source": [
    "def construct_tensort(A): #A is matrix, one column is one data\n",
    "    \n",
    "    T = np.zeros((int(math.sqrt(A.shape[0])),int(math.sqrt(A.shape[0])), A.shape[1]))\n",
    "    \n",
    "\n",
    "    for i in range((A.shape[1])):\n",
    "        T[:,:,i] = np.reshape( A[:, i], (int(math.sqrt(A.shape[0])),int(math.sqrt(A.shape[0]))) )\n",
    "        \n",
    "    return(T)"
   ]
  },
  {
   "cell_type": "code",
   "execution_count": 120,
   "metadata": {},
   "outputs": [],
   "source": [
    "def sort_tensor(T, D): #T is tensor, D is correct output for each frontal slice\n",
    "    \n",
    "    T_solution = np.empty((16,16,1707))\n",
    "    \n",
    "    for i in range(k):\n",
    "        if(i == 0):\n",
    "            T_solution[:,:,0: len(np.where(D == i)[1])] = T[:,:,np.where(D == i)[1]]\n",
    "        else:\n",
    "            T_solution[:,:,len(np.where(D == (i-1))[1]) : len(np.where(D == (i-1))[1]) + len(np.where(D == i)[1])] = T[:,:,np.where(D == i)[1]]\n",
    "    \n",
    "    return(T_solution)\n",
    "\n",
    "#ovo provjeriti jel još okej"
   ]
  },
  {
   "cell_type": "code",
   "execution_count": 27,
   "metadata": {},
   "outputs": [],
   "source": [
    "def my_HOSVD(T):\n",
    "\n",
    "    U1, _, _ = np.linalg.svd(tl.unfold(T, 1), full_matrices=False) \n",
    "    U2, _, _ = np.linalg.svd(tl.unfold(T, 2), full_matrices=False) \n",
    "    U3, _, _ = np.linalg.svd(tl.unfold(T, 0), full_matrices=False)\n",
    "\n",
    "    S = tl.tenalg.multi_mode_dot(T, [np.transpose(U1),np.transpose(U2),np.transpose(U3)], modes = [0,1,2], transpose=False)\n",
    "    \n",
    "    return(S, U1, U2, U3)"
   ]
  },
  {
   "cell_type": "code",
   "execution_count": 111,
   "metadata": {},
   "outputs": [],
   "source": [
    "def plot_norm(T):\n",
    "    \n",
    "    norm_1 = np.zeros(T.shape[0]) \n",
    "    for i in range(T.shape[0]):\n",
    "        norm_1[i] = np.linalg.norm(T[i,:,:]) ** 2 #optimizirati naknadno: suma dij!\n",
    "\n",
    "    norm_2 = np.zeros(T.shape[1])   \n",
    "    for i in range(T.shape[1]):\n",
    "        norm_2[i] = np.linalg.norm(T[:,i,:]) ** 2\n",
    "\n",
    "    norm_3 = np.zeros(T.shape[2])   \n",
    "    for i in range(T.shape[2]):\n",
    "        norm_3[i] = np.linalg.norm(T[:,:,i]) ** 2\n",
    "\n",
    "    df_ = pd.DataFrame(data = {'Mode 1':norm_1, 'Mode 2':norm_2}) #opt isto\n",
    "    df__ = pd.DataFrame(data = {'Mode 3':norm_3})\n",
    "    df = pd.concat([df_,df__], ignore_index=True, axis=1)\n",
    "\n",
    "    sns.lineplot(data = df)\n",
    "    "
   ]
  },
  {
   "cell_type": "code",
   "execution_count": 130,
   "metadata": {},
   "outputs": [
    {
     "data": {
      "image/png": "[encoded data removed]",
      "text/plain": [
       "<Figure size 432x288 with 1 Axes>"
      ]
     },
     "metadata": {},
     "output_type": "display_data"
    }
   ],
   "source": [
    "##reading data\n",
    "mat = scipy.io.loadmat('azip.mat')\n",
    "A = mat['azip'] #matrix 265 x 1707, one column is one digit\n",
    "mat = scipy.io.loadmat('dzip.mat')\n",
    "D = mat['dzip'] #matrix 1 x 1707, info about A\n",
    "k = np.unique(D).size\n",
    "\n",
    "#construct tensor from A\n",
    "T = construct_tensort(A)\n",
    "\n",
    "#sort tensor\n",
    "T = sort_tensor(T, D)\n",
    "\n",
    "#make HOSVD\n",
    "F = my_HOSVD(T)\n",
    "\n",
    "#plot norms\n",
    "plot_norm(F)\n"
   ]
  },
  {
   "cell_type": "markdown",
   "metadata": {},
   "source": [
    "25.2.2022,"
   ]
  },
  {
   "cell_type": "code",
   "execution_count": 50,
   "metadata": {},
   "outputs": [],
   "source": [
    "def multiplication(T, M, mode): #funkcija za množenje tenzora i matrice u modu m\n",
    "    descriptor = list(T.shape)\n",
    "    descriptor[mode] = M.shape[0]\n",
    "    return (tl.fold( M @ tl.unfold(T, mode), mode, descriptor))   "
   ]
  },
  {
   "cell_type": "code",
   "execution_count": 74,
   "metadata": {},
   "outputs": [],
   "source": [
    "def HOSVD2(T, p, q):\n",
    "    U1, _, _ = np.linalg.svd(tl.unfold(T, 1), full_matrices=False)\n",
    "    U2, _, _ = np.linalg.svd(tl.unfold(T, 2), full_matrices=False)\n",
    "    F_ = multiplication(T, np.transpose(U1[:, 0:p]), 1)\n",
    "    F = multiplication(F_, np.transpose(U2[:, 0:q]), 2)\n",
    "    return F, U1[:, 0:p]"
   ]
  },
  {
   "cell_type": "code",
   "execution_count": 62,
   "metadata": {},
   "outputs": [],
   "source": [
    "def alg2_train(F, k):\n",
    "    B = np.zeros((F.shape[0], k, k ))\n",
    "    for mi in range(F.shape[2]):\n",
    "        U, _, _ = np.linalg.svd(F[:, :, i], full_matrices=False)\n",
    "        B[:, :, mi] = U[:, 0:k]\n",
    "    return(B)"
   ]
  },
  {
   "cell_type": "code",
   "execution_count": 83,
   "metadata": {},
   "outputs": [],
   "source": [
    "def alg2_test(A_test, B, U_p):\n",
    "    \n",
    "    digits = []\n",
    "    \n",
    "    for j in range(A_test.shape[1]):\n",
    "        \n",
    "        d = A_test[:, j]\n",
    "        print(\"U\", U_p.shape)\n",
    "        print(\"d\", d.shape)\n",
    "        d = np.transpose(U_p) @ d \n",
    "        \n",
    "        r = []\n",
    "        \n",
    "        for k in range(B.shape[2]):\n",
    "            r.append(np.linalg.norm(d - B[:,:,k] @ (np.transpose(B[:,:k]) @ d)))\n",
    "        \n",
    "        digits.append(np.argmin(r))\n",
    "\n",
    "    return digits        \n",
    "    "
   ]
  },
  {
   "cell_type": "markdown",
   "metadata": {},
   "source": [
    "Korištenje gornjih funkcija"
   ]
  },
  {
   "cell_type": "code",
   "execution_count": 70,
   "metadata": {},
   "outputs": [],
   "source": [
    "mat = scipy.io.loadmat('azip.mat')\n",
    "A_train = mat['azip'] #matrix 265 x 1707, one column is one digit\n",
    "mat = scipy.io.loadmat('dzip.mat')\n",
    "D_train = mat['dzip'] #matrix 1 x 1707, info about A\n",
    "\n",
    "mat = scipy.io.loadmat('atest.mat')\n",
    "A_test = mat['testzip'] \n",
    "mat = scipy.io.loadmat('dtest.mat')\n",
    "D_test = mat['dtest'] \n",
    "\n",
    "k = np.unique(D_train).size"
   ]
  },
  {
   "cell_type": "code",
   "execution_count": 71,
   "metadata": {},
   "outputs": [],
   "source": [
    "#konstrukcija tenzora\n",
    "T = np.empty((256,400,10)) \n",
    "for i in range(k): \n",
    "    T[:, 0:A_train[:, np.where(D_train == 2)[1]].shape[1], i] = A_train[:, np.where(D_train == 2)[1]]"
   ]
  },
  {
   "cell_type": "code",
   "execution_count": 75,
   "metadata": {},
   "outputs": [],
   "source": [
    "F, U_p = HOSVD2(T, 250, 50) #p manji od 256, q manji od 82?"
   ]
  },
  {
   "cell_type": "code",
   "execution_count": 85,
   "metadata": {},
   "outputs": [
    {
     "data": {
      "text/plain": [
       "(400, 250)"
      ]
     },
     "execution_count": 85,
     "metadata": {},
     "output_type": "execute_result"
    }
   ],
   "source": [
    "U_p.shape"
   ]
  },
  {
   "cell_type": "code",
   "execution_count": 77,
   "metadata": {},
   "outputs": [],
   "source": [
    "B = alg2_train(F,k)"
   ]
  },
  {
   "cell_type": "code",
   "execution_count": 84,
   "metadata": {},
   "outputs": [
    {
     "name": "stdout",
     "output_type": "stream",
     "text": [
      "U (400, 250)\n",
      "d (256,)\n"
     ]
    },
    {
     "ename": "ValueError",
     "evalue": "matmul: Input operand 1 has a mismatch in its core dimension 0, with gufunc signature (n?,k),(k,m?)->(n?,m?) (size 256 is different from 400)",
     "output_type": "error",
     "traceback": [
      "\u001b[0;31m---------------------------------------------------------------------------\u001b[0m",
      "\u001b[0;31mValueError\u001b[0m                                Traceback (most recent call last)",
      "\u001b[0;32m/var/folders/d3/xr9k6gp148s_pc6q399vjm2h0000gn/T/ipykernel_1015/3779806341.py\u001b[0m in \u001b[0;36m<module>\u001b[0;34m\u001b[0m\n\u001b[0;32m----> 1\u001b[0;31m \u001b[0malg2_test\u001b[0m\u001b[0;34m(\u001b[0m\u001b[0mA_test\u001b[0m\u001b[0;34m,\u001b[0m \u001b[0mB\u001b[0m\u001b[0;34m,\u001b[0m \u001b[0mU_p\u001b[0m\u001b[0;34m)\u001b[0m\u001b[0;34m\u001b[0m\u001b[0;34m\u001b[0m\u001b[0m\n\u001b[0m",
      "\u001b[0;32m/var/folders/d3/xr9k6gp148s_pc6q399vjm2h0000gn/T/ipykernel_1015/507101316.py\u001b[0m in \u001b[0;36malg2_test\u001b[0;34m(A_test, B, U_p)\u001b[0m\n\u001b[1;32m      8\u001b[0m         \u001b[0mprint\u001b[0m\u001b[0;34m(\u001b[0m\u001b[0;34m\"U\"\u001b[0m\u001b[0;34m,\u001b[0m \u001b[0mU_p\u001b[0m\u001b[0;34m.\u001b[0m\u001b[0mshape\u001b[0m\u001b[0;34m)\u001b[0m\u001b[0;34m\u001b[0m\u001b[0;34m\u001b[0m\u001b[0m\n\u001b[1;32m      9\u001b[0m         \u001b[0mprint\u001b[0m\u001b[0;34m(\u001b[0m\u001b[0;34m\"d\"\u001b[0m\u001b[0;34m,\u001b[0m \u001b[0md\u001b[0m\u001b[0;34m.\u001b[0m\u001b[0mshape\u001b[0m\u001b[0;34m)\u001b[0m\u001b[0;34m\u001b[0m\u001b[0;34m\u001b[0m\u001b[0m\n\u001b[0;32m---> 10\u001b[0;31m         \u001b[0md\u001b[0m \u001b[0;34m=\u001b[0m \u001b[0mnp\u001b[0m\u001b[0;34m.\u001b[0m\u001b[0mtranspose\u001b[0m\u001b[0;34m(\u001b[0m\u001b[0mU_p\u001b[0m\u001b[0;34m)\u001b[0m \u001b[0;34m@\u001b[0m \u001b[0md\u001b[0m\u001b[0;34m\u001b[0m\u001b[0;34m\u001b[0m\u001b[0m\n\u001b[0m\u001b[1;32m     11\u001b[0m \u001b[0;34m\u001b[0m\u001b[0m\n\u001b[1;32m     12\u001b[0m         \u001b[0mr\u001b[0m \u001b[0;34m=\u001b[0m \u001b[0;34m[\u001b[0m\u001b[0;34m]\u001b[0m\u001b[0;34m\u001b[0m\u001b[0;34m\u001b[0m\u001b[0m\n",
      "\u001b[0;31mValueError\u001b[0m: matmul: Input operand 1 has a mismatch in its core dimension 0, with gufunc signature (n?,k),(k,m?)->(n?,m?) (size 256 is different from 400)"
     ]
    }
   ],
   "source": [
    "alg2_test(A_test, B, U_p)"
   ]
  },
  {
   "cell_type": "code",
   "execution_count": null,
   "metadata": {},
   "outputs": [],
   "source": []
  }
 ],
 "metadata": {
  "interpreter": {
   "hash": "eeb592eeb14baf80ba7e3ad598b9cc718d92fa62785d72005ca19f7c0e0c833d"
  },
  "kernelspec": {
   "display_name": "Python 3.8.5 ('base')",
   "language": "python",
   "name": "python3"
  },
  "language_info": {
   "codemirror_mode": {
    "name": "ipython",
    "version": 3
   },
   "file_extension": ".py",
   "mimetype": "text/x-python",
   "name": "python",
   "nbconvert_exporter": "python",
   "pygments_lexer": "ipython3",
   "version": "3.8.5"
  },
  "orig_nbformat": 4
 },
 "nbformat": 4,
 "nbformat_minor": 2
}
