{
 "cells": [
  {
   "cell_type": "markdown",
   "metadata": {},
   "source": [
    "### Algorithm 1\n",
    "##### Initial version"
   ]
  },
  {
   "cell_type": "code",
   "execution_count": 27,
   "metadata": {},
   "outputs": [],
   "source": [
    "import scipy.io\n",
    "import numpy as np\n",
    "import tensorly as tl"
   ]
  },
  {
   "cell_type": "code",
   "execution_count": 31,
   "metadata": {},
   "outputs": [],
   "source": [
    "#reading data\n",
    "mat = scipy.io.loadmat('azip.mat')\n",
    "A = mat['azip'] #matrix 265 x 1707, one column is one digit\n",
    "mat = scipy.io.loadmat('dzip.mat')\n",
    "D = mat['dzip'] #matrix 1 x 1707, info about A\n",
    "\n",
    "k = np.unique(D).size #broj klastera, broj jedinstvenih elementa u D -> ovo zbog općenitosti \n"
   ]
  },
  {
   "cell_type": "code",
   "execution_count": 43,
   "metadata": {},
   "outputs": [],
   "source": [
    "p = 0\n",
    "for i in range (k):\n",
    "    A_ = A[:, np.where(D == i)[1]] #daje podmatricu od A čiji stupci odgovaraju točno jednoj znamenci\n",
    "    T = tl.vec_to_tensor(A_,(16,16,A_.shape[1])) #konstruira tenzor reda 16x16xbroj pojavljivanja te znamenke\n",
    "    #p += T.shape[2] ovo treba biti 1707, provjera, ovo je ok \n",
    "    \n",
    "    #sad trebam napraviti HOSVD nad tim tenzorom\n",
    "    "
   ]
  },
  {
   "cell_type": "code",
   "execution_count": null,
   "metadata": {},
   "outputs": [],
   "source": []
  }
 ],
 "metadata": {
  "interpreter": {
   "hash": "eeb592eeb14baf80ba7e3ad598b9cc718d92fa62785d72005ca19f7c0e0c833d"
  },
  "kernelspec": {
   "display_name": "Python 3.8.5 ('base')",
   "language": "python",
   "name": "python3"
  },
  "language_info": {
   "codemirror_mode": {
    "name": "ipython",
    "version": 3
   },
   "file_extension": ".py",
   "mimetype": "text/x-python",
   "name": "python",
   "nbconvert_exporter": "python",
   "pygments_lexer": "ipython3",
   "version": "3.8.5"
  },
  "orig_nbformat": 4
 },
 "nbformat": 4,
 "nbformat_minor": 2
}
