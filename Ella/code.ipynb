{
 "cells": [
  {
   "cell_type": "code",
   "execution_count": 42,
   "metadata": {},
   "outputs": [],
   "source": [
    "\n",
    "import scipy.io\n",
    "import numpy as np\n",
    "import pandas as pd\n",
    "import seaborn as sns\n",
    "import tensorly as tl\n",
    "import math \n",
    "import matplotlib.pyplot as plt\n",
    "import gzip \n",
    "\n",
    "sns.set_theme()"
   ]
  },
  {
   "cell_type": "markdown",
   "metadata": {},
   "source": [
    "#### Algorithm 1"
   ]
  },
  {
   "cell_type": "code",
   "execution_count": 2,
   "metadata": {},
   "outputs": [],
   "source": [
    "def my_HOSVD(T):\n",
    "\n",
    "    U1, _, _ = np.linalg.svd(tl.unfold(T, 0), full_matrices=False) \n",
    "    U2, _, _ = np.linalg.svd(tl.unfold(T, 1), full_matrices=False) \n",
    "    U3, _, _ = np.linalg.svd(tl.unfold(T, 2), full_matrices=False)\n",
    "\n",
    "    S = tl.tenalg.multi_mode_dot(T, [np.transpose(U1),np.transpose(U2),np.transpose(U3)], modes = [0,1,2], transpose=False)\n",
    "    \n",
    "    return(S, U1, U2)"
   ]
  },
  {
   "cell_type": "code",
   "execution_count": 32,
   "metadata": {},
   "outputs": [],
   "source": [
    "def alg1_train(A_train, D_train,  k):\n",
    "    \n",
    "    tensor = [None] * k\n",
    "    \n",
    "    for i in range(k):\n",
    "\n",
    "        T = tl.vec_to_tensor(A_train[:, np.where(D_train == i)[1]], (int(math.sqrt(A_train.shape[0])),int(math.sqrt(A_train.shape[0])),A_train[:, np.where(D_train == i)[1]].shape[1]))\n",
    "        S, U1, U2 = my_HOSVD(T)\n",
    "    \n",
    "        tensor[i] = np.zeros((int(math.sqrt(A_train.shape[0])),int(math.sqrt(A_train.shape[0])), S.shape[2]))\n",
    "\n",
    "        for j in range(S.shape[2]):\n",
    "            pom_1 = multiplication(tl.vec_to_tensor(S[:,:,j], (int(math.sqrt(A_train.shape[0])),int(math.sqrt(A_train.shape[0])),1)), U1, 0)\n",
    "            pom_2 = multiplication(pom_1, U2, 1)\n",
    "            tensor[i][:, :, j] = np.reshape(pom_2 / np.linalg.norm(pom_2), (int(math.sqrt(A_train.shape[0])),int(math.sqrt(A_train.shape[0]))))\n",
    "            \n",
    "    return(tensor)"
   ]
  },
  {
   "cell_type": "code",
   "execution_count": 39,
   "metadata": {},
   "outputs": [],
   "source": [
    "def alg1_test(A_test, tensor,  k, l):\n",
    "        \n",
    "    digits = []\n",
    "\n",
    "    for i in range(A_test.shape[1]): \n",
    "        \n",
    "        D = np.reshape((A_test[:, i] / np.linalg.norm(A_test[:, i])), (int(math.sqrt(A_train.shape[0])),int(math.sqrt(A_train.shape[0]))))\n",
    "        \n",
    "        max_R = np.NINF\n",
    "        digit = 0 \n",
    "    \n",
    "        for j in range(k):\n",
    "            \n",
    "            R = 0 \n",
    "\n",
    "            for z in range(l): \n",
    "                R += np.trace(np.matmul(np.transpose(D), tensor[j][:,:,z])) ** 2  \n",
    "                \n",
    "            if( R > max_R): \n",
    "                max_R = R\n",
    "                digit = j\n",
    "            \n",
    "        digits.append(digit)\n",
    "        \n",
    "    return digits"
   ]
  },
  {
   "cell_type": "code",
   "execution_count": 40,
   "metadata": {},
   "outputs": [],
   "source": [
    "\n",
    "##reading data\n",
    "mat = scipy.io.loadmat('azip.mat')\n",
    "A_train = mat['azip'] \n",
    "mat = scipy.io.loadmat('dzip.mat')\n",
    "D_train = mat['dzip'] \n",
    "\n",
    "mat = scipy.io.loadmat('atest.mat')\n",
    "A_test = mat['testzip'] \n",
    "mat = scipy.io.loadmat('dtest.mat')\n",
    "D_test = mat['dtest'] \n",
    "\n",
    "k = np.unique(D_train).size\n",
    "l = 30"
   ]
  },
  {
   "cell_type": "code",
   "execution_count": 41,
   "metadata": {},
   "outputs": [
    {
     "data": {
      "text/plain": [
       "0.9342301943198804"
      ]
     },
     "execution_count": 41,
     "metadata": {},
     "output_type": "execute_result"
    }
   ],
   "source": [
    "tensor = alg1_train(A_train, D_train, k )\n",
    "\n",
    "predictions = alg1_test(A_test, tensor, k, l)\n",
    "\n",
    "np.count_nonzero(predictions == D_test[0]) / len(D_test[0])"
   ]
  },
  {
   "cell_type": "code",
   "execution_count": 59,
   "metadata": {},
   "outputs": [],
   "source": [
    "#plotanje norma\n",
    "\n",
    "def plot_norm(T):\n",
    "    \n",
    "    norm_1 = np.zeros(T.shape[0]) \n",
    "    for i in range(T.shape[0]):\n",
    "        norm_1[i] = np.linalg.norm(T[i,:,:]) ** 2 #optimizirati naknadno: suma dij!\n",
    "\n",
    "    norm_2 = np.zeros(T.shape[1])   \n",
    "    for i in range(T.shape[1]):\n",
    "        norm_2[i] = np.linalg.norm(T[:,i,:]) ** 2\n",
    "\n",
    "    norm_3 = np.zeros(T.shape[2])   \n",
    "    for i in range(T.shape[2]):\n",
    "        norm_3[i] = np.linalg.norm(T[:,:,i]) ** 2\n",
    "\n",
    "    df_ = pd.DataFrame(data = {'Mode 1':norm_1, 'Mode 2':norm_2}) #opt isto\n",
    "    df__ = pd.DataFrame(data = {'Mode 3':norm_3})\n",
    "    df = pd.concat([df_,df__], ignore_index=True, axis=1)\n",
    "\n",
    "    sns.lineplot(data = df)\n",
    "    "
   ]
  },
  {
   "cell_type": "markdown",
   "metadata": {},
   "source": [
    "#### 25.2.2022. by E Algoritam 2 "
   ]
  },
  {
   "cell_type": "code",
   "execution_count": 7,
   "metadata": {},
   "outputs": [],
   "source": [
    "def multiplication(T, M, mode): \n",
    "    descriptor = list(T.shape)\n",
    "    descriptor[mode] = M.shape[0]\n",
    "    pom = tl.unfold(T, mode)\n",
    "    return (tl.fold( M @ pom, mode, descriptor))   "
   ]
  },
  {
   "cell_type": "code",
   "execution_count": 3,
   "metadata": {},
   "outputs": [],
   "source": [
    "def HOSVD2(T, p, q): \n",
    "    U1, _, _ = np.linalg.svd(tl.unfold(T, 0), full_matrices=False)\n",
    "    U2, _, _ = np.linalg.svd(tl.unfold(T, 1), full_matrices=False)\n",
    "    F_ = multiplication(T, np.transpose(U1[:, 0:p]), 0)\n",
    "    F = multiplication(F_, np.transpose(U2[:, 0:q]), 1)\n",
    "    return F, U1[:, 0:p]"
   ]
  },
  {
   "cell_type": "code",
   "execution_count": 4,
   "metadata": {},
   "outputs": [],
   "source": [
    "def alg2_train(F, k):\n",
    "    B = np.zeros((F.shape[0], k, k))\n",
    "    for mi in range(F.shape[2]):\n",
    "        U, _, _ = np.linalg.svd(F[:, :, mi], full_matrices=False)\n",
    "        B[:, :, mi] = U[:, 0:k]\n",
    "    return(B)"
   ]
  },
  {
   "cell_type": "code",
   "execution_count": 5,
   "metadata": {},
   "outputs": [],
   "source": [
    "def alg2_test(A_test, B, U_p):\n",
    "    \n",
    "    digits = []\n",
    "    \n",
    "    for j in range(A_test.shape[1]): \n",
    "        \n",
    "        d = A_test[:, j]\n",
    "        d = np.transpose(U_p) @ d \n",
    "        \n",
    "        r_min =  700000\n",
    "        \n",
    "        for k in range(B.shape[2]): \n",
    "\n",
    "            r = np.linalg.norm(d - (B[:,:,k] @ (np.transpose(B[:,:, k]) @ d)))\n",
    "            \n",
    "            if(r < r_min):\n",
    "                r_min = r \n",
    "                digit = k\n",
    "                \n",
    "        digits.append(digit)\n",
    "\n",
    "    return digits        \n",
    "    "
   ]
  },
  {
   "cell_type": "code",
   "execution_count": 51,
   "metadata": {},
   "outputs": [],
   "source": [
    "def construct_tensor(A_train):\n",
    "    makszn = (D_train[0] == np.bincount(D_train[0]).argmax()).sum()\n",
    "    T = np.zeros((A_train.shape[0],makszn,k))\n",
    "\n",
    "    for i in range(k):    \n",
    "        for j in range(makszn):       \n",
    "            if(j >= len(np.where(D_train==i)[1])):\n",
    "                mjesto = np.random.randint(0, len(np.where(D_train==i)[1])-1)           \n",
    "                T[:,j,i]=A_train[:, np.where(D_train == i)[1]][:,mjesto]\n",
    "        \n",
    "            else:\n",
    "                T[:,j,i]=A_train[:, np.where(D_train == i)[1]][:,j]\n",
    "    \n",
    "    return(T)\n"
   ]
  },
  {
   "cell_type": "code",
   "execution_count": 53,
   "metadata": {},
   "outputs": [],
   "source": [
    "\n",
    "mat = scipy.io.loadmat('azip.mat')\n",
    "A_train = mat['azip'] #matrix 265 x 1707, one column is one digit\n",
    "mat = scipy.io.loadmat('dzip.mat')\n",
    "D_train = mat['dzip'] #matrix 1 x 1707, info about A\n",
    "\n",
    "mat = scipy.io.loadmat('atest.mat')\n",
    "A_test = mat['testzip'] \n",
    "mat = scipy.io.loadmat('dtest.mat')\n",
    "D_test = mat['dtest'] \n",
    "\n",
    "k = np.unique(D_train).size\n",
    "\n",
    "#pd.Series(D_train[0]).value_counts() #broj uzorka za svaku znamenku"
   ]
  },
  {
   "cell_type": "code",
   "execution_count": 54,
   "metadata": {},
   "outputs": [
    {
     "data": {
      "text/plain": [
       "0.9282511210762332"
      ]
     },
     "execution_count": 54,
     "metadata": {},
     "output_type": "execute_result"
    }
   ],
   "source": [
    "T = construct_tensor(A_train)\n",
    "\n",
    "F, U_p = HOSVD2(T, 128, 128) \n",
    "\n",
    "B = alg2_train(F,k)\n",
    "\n",
    "predictions = alg2_test(A_test, B, U_p)\n",
    "\n",
    "np.count_nonzero(predictions == D_test[0]) / len(D_test[0])"
   ]
  },
  {
   "cell_type": "code",
   "execution_count": 45,
   "metadata": {},
   "outputs": [],
   "source": [
    "##loading data\n",
    "f = gzip.open(\"MNIST_train_img.gz\", \"r\")\n",
    "file_content=f.read()"
   ]
  },
  {
   "cell_type": "code",
   "execution_count": 68,
   "metadata": {},
   "outputs": [
    {
     "name": "stdout",
     "output_type": "stream",
     "text": [
      "Populating the interactive namespace from numpy and matplotlib\n"
     ]
    },
    {
     "name": "stderr",
     "output_type": "stream",
     "text": [
      "/Users/eleonoradetic/opt/anaconda3/lib/python3.8/site-packages/IPython/core/magics/pylab.py:159: UserWarning: pylab import has clobbered these variables: ['f', 'mat']\n",
      "`%matplotlib` prevents importing * from pylab and numpy\n",
      "  warn(\"pylab import has clobbered these variables: %s\"  % clobbered +\n"
     ]
    }
   ],
   "source": [
    "import numpy as np\n",
    "import requests, gzip, os, hashlib\n",
    "%pylab inline"
   ]
  },
  {
   "cell_type": "code",
   "execution_count": 69,
   "metadata": {},
   "outputs": [
    {
     "ename": "FileNotFoundError",
     "evalue": "[Errno 2] No such file or directory: '/mnt/e/ADITYA/EDUCATION/ML/Jupyter Lab/MNIST/mnist-from-numpy/data/23278f029ff68f1e993776e500ce06b9'",
     "output_type": "error",
     "traceback": [
      "\u001b[0;31m---------------------------------------------------------------------------\u001b[0m",
      "\u001b[0;31mFileNotFoundError\u001b[0m                         Traceback (most recent call last)",
      "\u001b[0;32m/var/folders/d3/xr9k6gp148s_pc6q399vjm2h0000gn/T/ipykernel_4249/127819822.py\u001b[0m in \u001b[0;36m<module>\u001b[0;34m\u001b[0m\n\u001b[1;32m     12\u001b[0m     \u001b[0;32mreturn\u001b[0m \u001b[0mnp\u001b[0m\u001b[0;34m.\u001b[0m\u001b[0mfrombuffer\u001b[0m\u001b[0;34m(\u001b[0m\u001b[0mgzip\u001b[0m\u001b[0;34m.\u001b[0m\u001b[0mdecompress\u001b[0m\u001b[0;34m(\u001b[0m\u001b[0mdata\u001b[0m\u001b[0;34m)\u001b[0m\u001b[0;34m,\u001b[0m \u001b[0mdtype\u001b[0m\u001b[0;34m=\u001b[0m\u001b[0mnp\u001b[0m\u001b[0;34m.\u001b[0m\u001b[0muint8\u001b[0m\u001b[0;34m)\u001b[0m\u001b[0;34m.\u001b[0m\u001b[0mcopy\u001b[0m\u001b[0;34m(\u001b[0m\u001b[0;34m)\u001b[0m\u001b[0;34m\u001b[0m\u001b[0;34m\u001b[0m\u001b[0m\n\u001b[1;32m     13\u001b[0m \u001b[0;34m\u001b[0m\u001b[0m\n\u001b[0;32m---> 14\u001b[0;31m \u001b[0mX\u001b[0m \u001b[0;34m=\u001b[0m \u001b[0mfetch\u001b[0m\u001b[0;34m(\u001b[0m\u001b[0;34m\"http://yann.lecun.com/exdb/mnist/train-images-idx3-ubyte.gz\"\u001b[0m\u001b[0;34m)\u001b[0m\u001b[0;34m[\u001b[0m\u001b[0;36m0x10\u001b[0m\u001b[0;34m:\u001b[0m\u001b[0;34m]\u001b[0m\u001b[0;34m.\u001b[0m\u001b[0mreshape\u001b[0m\u001b[0;34m(\u001b[0m\u001b[0;34m(\u001b[0m\u001b[0;34m-\u001b[0m\u001b[0;36m1\u001b[0m\u001b[0;34m,\u001b[0m \u001b[0;36m28\u001b[0m\u001b[0;34m,\u001b[0m \u001b[0;36m28\u001b[0m\u001b[0;34m)\u001b[0m\u001b[0;34m)\u001b[0m\u001b[0;34m\u001b[0m\u001b[0;34m\u001b[0m\u001b[0m\n\u001b[0m\u001b[1;32m     15\u001b[0m \u001b[0mY\u001b[0m \u001b[0;34m=\u001b[0m \u001b[0mfetch\u001b[0m\u001b[0;34m(\u001b[0m\u001b[0;34m\"http://yann.lecun.com/exdb/mnist/train-labels-idx1-ubyte.gz\"\u001b[0m\u001b[0;34m)\u001b[0m\u001b[0;34m[\u001b[0m\u001b[0;36m8\u001b[0m\u001b[0;34m:\u001b[0m\u001b[0;34m]\u001b[0m\u001b[0;34m\u001b[0m\u001b[0;34m\u001b[0m\u001b[0m\n\u001b[1;32m     16\u001b[0m \u001b[0mX_test\u001b[0m \u001b[0;34m=\u001b[0m \u001b[0mfetch\u001b[0m\u001b[0;34m(\u001b[0m\u001b[0;34m\"http://yann.lecun.com/exdb/mnist/t10k-images-idx3-ubyte.gz\"\u001b[0m\u001b[0;34m)\u001b[0m\u001b[0;34m[\u001b[0m\u001b[0;36m0x10\u001b[0m\u001b[0;34m:\u001b[0m\u001b[0;34m]\u001b[0m\u001b[0;34m.\u001b[0m\u001b[0mreshape\u001b[0m\u001b[0;34m(\u001b[0m\u001b[0;34m(\u001b[0m\u001b[0;34m-\u001b[0m\u001b[0;36m1\u001b[0m\u001b[0;34m,\u001b[0m \u001b[0;36m28\u001b[0m\u001b[0;34m*\u001b[0m\u001b[0;36m28\u001b[0m\u001b[0;34m)\u001b[0m\u001b[0;34m)\u001b[0m\u001b[0;34m\u001b[0m\u001b[0;34m\u001b[0m\u001b[0m\n",
      "\u001b[0;32m/var/folders/d3/xr9k6gp148s_pc6q399vjm2h0000gn/T/ipykernel_4249/127819822.py\u001b[0m in \u001b[0;36mfetch\u001b[0;34m(url)\u001b[0m\n\u001b[1;32m      7\u001b[0m             \u001b[0mdata\u001b[0m \u001b[0;34m=\u001b[0m \u001b[0mf\u001b[0m\u001b[0;34m.\u001b[0m\u001b[0mread\u001b[0m\u001b[0;34m(\u001b[0m\u001b[0;34m)\u001b[0m\u001b[0;34m\u001b[0m\u001b[0;34m\u001b[0m\u001b[0m\n\u001b[1;32m      8\u001b[0m     \u001b[0;32melse\u001b[0m\u001b[0;34m:\u001b[0m\u001b[0;34m\u001b[0m\u001b[0;34m\u001b[0m\u001b[0m\n\u001b[0;32m----> 9\u001b[0;31m         \u001b[0;32mwith\u001b[0m \u001b[0mopen\u001b[0m\u001b[0;34m(\u001b[0m\u001b[0mfp\u001b[0m\u001b[0;34m,\u001b[0m \u001b[0;34m\"wb\"\u001b[0m\u001b[0;34m)\u001b[0m \u001b[0;32mas\u001b[0m \u001b[0mf\u001b[0m\u001b[0;34m:\u001b[0m\u001b[0;34m\u001b[0m\u001b[0;34m\u001b[0m\u001b[0m\n\u001b[0m\u001b[1;32m     10\u001b[0m             \u001b[0mdata\u001b[0m \u001b[0;34m=\u001b[0m \u001b[0mrequests\u001b[0m\u001b[0;34m.\u001b[0m\u001b[0mget\u001b[0m\u001b[0;34m(\u001b[0m\u001b[0murl\u001b[0m\u001b[0;34m)\u001b[0m\u001b[0;34m.\u001b[0m\u001b[0mcontent\u001b[0m\u001b[0;34m\u001b[0m\u001b[0;34m\u001b[0m\u001b[0m\n\u001b[1;32m     11\u001b[0m             \u001b[0mf\u001b[0m\u001b[0;34m.\u001b[0m\u001b[0mwrite\u001b[0m\u001b[0;34m(\u001b[0m\u001b[0mdata\u001b[0m\u001b[0;34m)\u001b[0m\u001b[0;34m\u001b[0m\u001b[0;34m\u001b[0m\u001b[0m\n",
      "\u001b[0;31mFileNotFoundError\u001b[0m: [Errno 2] No such file or directory: '/mnt/e/ADITYA/EDUCATION/ML/Jupyter Lab/MNIST/mnist-from-numpy/data/23278f029ff68f1e993776e500ce06b9'"
     ]
    }
   ],
   "source": [
    "#fetch data\n",
    "path='/mnt/e/ADITYA/EDUCATION/ML/Jupyter Lab/MNIST/mnist-from-numpy/data'\n",
    "def fetch(url):\n",
    "    fp = os.path.join(path, hashlib.md5(url.encode('utf-8')).hexdigest())\n",
    "    if os.path.isfile(fp):\n",
    "        with open(fp, \"rb\") as f:\n",
    "            data = f.read()\n",
    "    else:\n",
    "        with open(fp, \"wb\") as f:\n",
    "            data = requests.get(url).content\n",
    "            f.write(data)\n",
    "    return np.frombuffer(gzip.decompress(data), dtype=np.uint8).copy()\n",
    "\n",
    "X = fetch(\"http://yann.lecun.com/exdb/mnist/train-images-idx3-ubyte.gz\")[0x10:].reshape((-1, 28, 28))\n",
    "Y = fetch(\"http://yann.lecun.com/exdb/mnist/train-labels-idx1-ubyte.gz\")[8:]\n",
    "X_test = fetch(\"http://yann.lecun.com/exdb/mnist/t10k-images-idx3-ubyte.gz\")[0x10:].reshape((-1, 28*28))\n",
    "Y_test = fetch(\"http://yann.lecun.com/exdb/mnist/t10k-labels-idx1-ubyte.gz\")[8:]"
   ]
  },
  {
   "cell_type": "code",
   "execution_count": null,
   "metadata": {},
   "outputs": [],
   "source": []
  }
 ],
 "metadata": {
  "interpreter": {
   "hash": "eeb592eeb14baf80ba7e3ad598b9cc718d92fa62785d72005ca19f7c0e0c833d"
  },
  "kernelspec": {
   "display_name": "Python 3.8.5 ('base')",
   "language": "python",
   "name": "python3"
  },
  "language_info": {
   "codemirror_mode": {
    "name": "ipython",
    "version": 3
   },
   "file_extension": ".py",
   "mimetype": "text/x-python",
   "name": "python",
   "nbconvert_exporter": "python",
   "pygments_lexer": "ipython3",
   "version": "3.8.5"
  },
  "orig_nbformat": 4
 },
 "nbformat": 4,
 "nbformat_minor": 2
}
