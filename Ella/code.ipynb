{
 "cells": [
  {
   "cell_type": "markdown",
   "metadata": {},
   "source": [
    "### Algorithm 1\n",
    "##### Initial version"
   ]
  },
  {
   "cell_type": "code",
   "execution_count": 1,
   "metadata": {},
   "outputs": [],
   "source": [
    "import scipy.io\n",
    "import numpy as np\n",
    "import pandas as pd\n",
    "import seaborn as sns\n",
    "import tensorly as tl\n",
    "from sktensor.tucker import hooi\n",
    "import matplotlib.pyplot as plt"
   ]
  },
  {
   "cell_type": "code",
   "execution_count": 2,
   "metadata": {},
   "outputs": [],
   "source": [
    "sns.set_theme()"
   ]
  },
  {
   "cell_type": "code",
   "execution_count": 3,
   "metadata": {},
   "outputs": [],
   "source": [
    "#reading data\n",
    "mat = scipy.io.loadmat('azip.mat')\n",
    "A = mat['azip'] #matrix 265 x 1707, one column is one digit\n",
    "mat = scipy.io.loadmat('dzip.mat')\n",
    "D = mat['dzip'] #matrix 1 x 1707, info about A\n",
    "\n",
    "k = np.unique(D).size #broj klastera, broj jedinstvenih elementa u D -> ovo zbog općenitosti \n"
   ]
  },
  {
   "cell_type": "code",
   "execution_count": 4,
   "metadata": {},
   "outputs": [],
   "source": [
    "p = 0\n",
    "for i in range (k):\n",
    "    A_ = A[:, np.where(D == i)[1]] #daje podmatricu od A čiji stupci odgovaraju točno jednoj znamenci\n",
    "    T = tl.vec_to_tensor(A_,(16,16,A_.shape[1])) #konstruira tenzor reda 16x16xbroj pojavljivanja te znamenke\n",
    "    #p += T.shape[2] ovo treba biti 1707, provjera, ovo je ok \n",
    "    \n",
    "    #sad trebam napraviti HOSVD nad tim tenzorom\n",
    "    "
   ]
  },
  {
   "cell_type": "code",
   "execution_count": 76,
   "metadata": {},
   "outputs": [
    {
     "data": {
      "text/plain": [
       "(16, 16, 132)"
      ]
     },
     "execution_count": 76,
     "metadata": {},
     "output_type": "execute_result"
    }
   ],
   "source": [
    "T.shape"
   ]
  },
  {
   "cell_type": "code",
   "execution_count": null,
   "metadata": {},
   "outputs": [],
   "source": []
  },
  {
   "cell_type": "markdown",
   "metadata": {},
   "source": [
    "## Algoritam 2"
   ]
  },
  {
   "cell_type": "code",
   "execution_count": 5,
   "metadata": {},
   "outputs": [],
   "source": [
    "#konstrukcija jednog velikog tenzora\n",
    "T_main = np.zeros((16,16,1707))\n",
    "\n",
    "for i in range((A.shape[1])): #za svaki stupac od A\n",
    "    T_main[:,:,i] = np.reshape(A[:, i], (16,16)) #frontalni odsječak je jedna znamenka\n",
    "    \n",
    "#hosvd od glavnog tenzora\n",
    "#Y = hooi(T, [16, 16, 256], init='nvecs') ovo radi baš sa tenzorima\n",
    "#istražiti sintaksu!\n",
    "U1, S1, V1 = np.linalg.svd(tl.unfold(T_main, 1), full_matrices=False) #16x16\n",
    "U2, S2, V2 = np.linalg.svd(tl.unfold(T_main, 2), full_matrices=False) #16x16\n",
    "U3, S3, V3 = np.linalg.svd(tl.unfold(T_main, 0), full_matrices=False) #1707 x 256\n",
    "\n",
    "S_ = tl.tenalg.mode_dot(T_main,np.transpose(U1),mode=1,transpose=False)\n",
    "S__ = tl.tenalg.mode_dot(S_,np.transpose(U2),mode=2,transpose=False)\n",
    "S = tl.tenalg.mode_dot(S__,np.transpose(U3),mode=0,transpose=False) #16x16x256"
   ]
  },
  {
   "cell_type": "code",
   "execution_count": 23,
   "metadata": {},
   "outputs": [],
   "source": [
    "def plot_norm(T):\n",
    "    \n",
    "    norm_1 = np.zeros(T.shape[0]) \n",
    "    for i in range(T.shape[0]):\n",
    "        norm_1[i] = np.linalg.norm(T[i,:,:]) ** 2 #optimizirati naknadno: suma dij!\n",
    "\n",
    "    norm_2 = np.zeros(T.shape[1])   \n",
    "    for i in range(T.shape[1]):\n",
    "        norm_2[i] = np.linalg.norm(T[:,i,:]) ** 2\n",
    "\n",
    "    norm_3 = np.zeros(T.shape[2])   \n",
    "    for i in range(T.shape[2]):\n",
    "        norm_3[i] = np.linalg.norm(T[:,:,i]) ** 2\n",
    "\n",
    "    df_ = pd.DataFrame(data = {'Mode 1':norm_1, 'Mode 2':norm_2}) #opt isto\n",
    "    df__ = pd.DataFrame(data = {'Mode 3':norm_3})\n",
    "    df = pd.concat([df_,df__], ignore_index=True, axis=1)\n",
    "\n",
    "    sns.lineplot(data = df)\n",
    "    "
   ]
  },
  {
   "cell_type": "code",
   "execution_count": 26,
   "metadata": {},
   "outputs": [
    {
     "data": {
      "image/png": "[encoded data removed]",
      "text/plain": [
       "<Figure size 432x288 with 1 Axes>"
      ]
     },
     "metadata": {},
     "output_type": "display_data"
    }
   ],
   "source": [
    "plot_norm(S)"
   ]
  },
  {
   "cell_type": "code",
   "execution_count": null,
   "metadata": {},
   "outputs": [],
   "source": []
  }
 ],
 "metadata": {
  "interpreter": {
   "hash": "eeb592eeb14baf80ba7e3ad598b9cc718d92fa62785d72005ca19f7c0e0c833d"
  },
  "kernelspec": {
   "display_name": "Python 3.8.5 ('base')",
   "language": "python",
   "name": "python3"
  },
  "language_info": {
   "codemirror_mode": {
    "name": "ipython",
    "version": 3
   },
   "file_extension": ".py",
   "mimetype": "text/x-python",
   "name": "python",
   "nbconvert_exporter": "python",
   "pygments_lexer": "ipython3",
   "version": "3.8.5"
  },
  "orig_nbformat": 4
 },
 "nbformat": 4,
 "nbformat_minor": 2
}
