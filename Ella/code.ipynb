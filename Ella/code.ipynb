{
 "cells": [
  {
   "cell_type": "markdown",
   "metadata": {},
   "source": [
    "### Algorithm 1\n",
    "##### Initial version"
   ]
  },
  {
   "cell_type": "code",
   "execution_count": 1,
   "metadata": {},
   "outputs": [],
   "source": [
    "import scipy.io\n",
    "import numpy as np\n",
    "import pandas as pd\n",
    "import seaborn as sns\n",
    "import tensorly as tl\n",
    "from sktensor.tucker import hooi\n",
    "import matplotlib.pyplot as plt"
   ]
  },
  {
   "cell_type": "code",
   "execution_count": 2,
   "metadata": {},
   "outputs": [],
   "source": [
    "sns.set_theme()"
   ]
  },
  {
   "cell_type": "code",
   "execution_count": 3,
   "metadata": {},
   "outputs": [],
   "source": [
    "#reading data\n",
    "mat = scipy.io.loadmat('azip.mat')\n",
    "A = mat['azip'] #matrix 265 x 1707, one column is one digit\n",
    "mat = scipy.io.loadmat('dzip.mat')\n",
    "D = mat['dzip'] #matrix 1 x 1707, info about A\n",
    "\n",
    "k = np.unique(D).size #broj klastera, broj jedinstvenih elementa u D -> ovo zbog općenitosti \n"
   ]
  },
  {
   "cell_type": "code",
   "execution_count": 4,
   "metadata": {},
   "outputs": [],
   "source": [
    "p = 0\n",
    "for i in range (k):\n",
    "    A_ = A[:, np.where(D == i)[1]] #daje podmatricu od A čiji stupci odgovaraju točno jednoj znamenci\n",
    "    T = tl.vec_to_tensor(A_,(16,16,A_.shape[1])) #konstruira tenzor reda 16x16xbroj pojavljivanja te znamenke\n",
    "    #p += T.shape[2] ovo treba biti 1707, provjera, ovo je ok \n",
    "    \n",
    "    #sad trebam napraviti HOSVD nad tim tenzorom\n",
    "    "
   ]
  },
  {
   "cell_type": "code",
   "execution_count": 76,
   "metadata": {},
   "outputs": [
    {
     "data": {
      "text/plain": [
       "(16, 16, 132)"
      ]
     },
     "execution_count": 76,
     "metadata": {},
     "output_type": "execute_result"
    }
   ],
   "source": [
    "T.shape"
   ]
  },
  {
   "cell_type": "code",
   "execution_count": null,
   "metadata": {},
   "outputs": [],
   "source": []
  },
  {
   "cell_type": "markdown",
   "metadata": {},
   "source": [
    "## Algoritam 2"
   ]
  },
  {
   "cell_type": "code",
   "execution_count": 5,
   "metadata": {},
   "outputs": [],
   "source": [
    "#konstrukcija jednog velikog tenzora\n",
    "T_main = np.zeros((16,16,1707))\n",
    "\n",
    "for i in range((A.shape[1])): #za svaki stupac od A\n",
    "    T_main[:,:,i] = np.reshape(A[:, i], (16,16)) #frontalni odsječak je jedna znamenka\n",
    "    \n",
    "#hosvd od glavnog tenzora\n",
    "#Y = hooi(T, [16, 16, 256], init='nvecs') ovo radi baš sa tenzorima\n",
    "#istražiti sintaksu!\n",
    "U1, S1, V1 = np.linalg.svd(tl.unfold(T_main, 1), full_matrices=False) #16x16\n",
    "U2, S2, V2 = np.linalg.svd(tl.unfold(T_main, 2), full_matrices=False) #16x16\n",
    "U3, S3, V3 = np.linalg.svd(tl.unfold(T_main, 0), full_matrices=False) #1707 x 256\n",
    "\n",
    "S_ = tl.tenalg.mode_dot(T_main,np.transpose(U1),mode=1,transpose=False)\n",
    "S__ = tl.tenalg.mode_dot(S_,np.transpose(U2),mode=2,transpose=False)\n",
    "S = tl.tenalg.mode_dot(S__,np.transpose(U3),mode=0,transpose=False) #16x16x256"
   ]
  },
  {
   "cell_type": "code",
   "execution_count": 19,
   "metadata": {},
   "outputs": [
    {
     "data": {
      "text/plain": [
       "<AxesSubplot:>"
      ]
     },
     "execution_count": 19,
     "metadata": {},
     "output_type": "execute_result"
    },
    {
     "data": {
      "image/png": "[encoded data removed]",
      "text/plain": [
       "<Figure size 432x288 with 1 Axes>"
      ]
     },
     "metadata": {},
     "output_type": "display_data"
    }
   ],
   "source": [
    "norm_1 = np.zeros(S.shape[0]) #kasnije još ideja za optimizaciju, računati kao sumu dijagonalnih elementa\n",
    "for i in range(S.shape[0]):\n",
    "    norm_1[i] = np.linalg.norm(S[i,:,:])\n",
    "\n",
    "norm_2 = np.zeros(S.shape[1])   \n",
    "for i in range(S.shape[1]):\n",
    "    norm_2[i] = np.linalg.norm(S[:,i,:])\n",
    "\n",
    "norm_3 = np.zeros(S.shape[2])   \n",
    "for i in range(S.shape[2]):\n",
    "    norm_3[i] = np.linalg.norm(S[:,:,i])\n",
    "\n",
    "#ovo možda bolje optimizirati \n",
    "df_ = pd.DataFrame(data = {'Mode 1':norm_1, 'Mode 2':norm_2})\n",
    "df__ = pd.DataFrame(data = {'Mode 3':norm_3})\n",
    "df = pd.concat([df_,df__], ignore_index=True, axis=1)\n",
    "\n",
    "sns.lineplot(data = df)\n",
    "    "
   ]
  },
  {
   "cell_type": "code",
   "execution_count": 15,
   "metadata": {},
   "outputs": [
    {
     "data": {
      "text/html": [
       "<div>\n",
       "<style scoped>\n",
       "    .dataframe tbody tr th:only-of-type {\n",
       "        vertical-align: middle;\n",
       "    }\n",
       "\n",
       "    .dataframe tbody tr th {\n",
       "        vertical-align: top;\n",
       "    }\n",
       "\n",
       "    .dataframe thead th {\n",
       "        text-align: right;\n",
       "    }\n",
       "</style>\n",
       "<table border=\"1\" class=\"dataframe\">\n",
       "  <thead>\n",
       "    <tr style=\"text-align: right;\">\n",
       "      <th></th>\n",
       "      <th>Mode 1</th>\n",
       "      <th>Mode 2</th>\n",
       "    </tr>\n",
       "  </thead>\n",
       "  <tbody>\n",
       "    <tr>\n",
       "      <th>0</th>\n",
       "      <td>453.620513</td>\n",
       "      <td>426.591110</td>\n",
       "    </tr>\n",
       "    <tr>\n",
       "      <th>1</th>\n",
       "      <td>212.336901</td>\n",
       "      <td>231.074020</td>\n",
       "    </tr>\n",
       "    <tr>\n",
       "      <th>2</th>\n",
       "      <td>178.307385</td>\n",
       "      <td>206.454223</td>\n",
       "    </tr>\n",
       "    <tr>\n",
       "      <th>3</th>\n",
       "      <td>158.956718</td>\n",
       "      <td>163.373573</td>\n",
       "    </tr>\n",
       "    <tr>\n",
       "      <th>4</th>\n",
       "      <td>125.928010</td>\n",
       "      <td>128.675911</td>\n",
       "    </tr>\n",
       "    <tr>\n",
       "      <th>5</th>\n",
       "      <td>105.089068</td>\n",
       "      <td>120.539496</td>\n",
       "    </tr>\n",
       "    <tr>\n",
       "      <th>6</th>\n",
       "      <td>96.651609</td>\n",
       "      <td>86.138011</td>\n",
       "    </tr>\n",
       "    <tr>\n",
       "      <th>7</th>\n",
       "      <td>72.230903</td>\n",
       "      <td>85.001706</td>\n",
       "    </tr>\n",
       "    <tr>\n",
       "      <th>8</th>\n",
       "      <td>71.285011</td>\n",
       "      <td>60.700059</td>\n",
       "    </tr>\n",
       "    <tr>\n",
       "      <th>9</th>\n",
       "      <td>51.349856</td>\n",
       "      <td>58.458657</td>\n",
       "    </tr>\n",
       "    <tr>\n",
       "      <th>10</th>\n",
       "      <td>50.084728</td>\n",
       "      <td>43.965072</td>\n",
       "    </tr>\n",
       "    <tr>\n",
       "      <th>11</th>\n",
       "      <td>36.878691</td>\n",
       "      <td>41.113644</td>\n",
       "    </tr>\n",
       "    <tr>\n",
       "      <th>12</th>\n",
       "      <td>35.814006</td>\n",
       "      <td>34.715090</td>\n",
       "    </tr>\n",
       "    <tr>\n",
       "      <th>13</th>\n",
       "      <td>29.573963</td>\n",
       "      <td>29.989011</td>\n",
       "    </tr>\n",
       "    <tr>\n",
       "      <th>14</th>\n",
       "      <td>26.280416</td>\n",
       "      <td>28.117598</td>\n",
       "    </tr>\n",
       "    <tr>\n",
       "      <th>15</th>\n",
       "      <td>22.692456</td>\n",
       "      <td>16.954293</td>\n",
       "    </tr>\n",
       "  </tbody>\n",
       "</table>\n",
       "</div>"
      ],
      "text/plain": [
       "        Mode 1      Mode 2\n",
       "0   453.620513  426.591110\n",
       "1   212.336901  231.074020\n",
       "2   178.307385  206.454223\n",
       "3   158.956718  163.373573\n",
       "4   125.928010  128.675911\n",
       "5   105.089068  120.539496\n",
       "6    96.651609   86.138011\n",
       "7    72.230903   85.001706\n",
       "8    71.285011   60.700059\n",
       "9    51.349856   58.458657\n",
       "10   50.084728   43.965072\n",
       "11   36.878691   41.113644\n",
       "12   35.814006   34.715090\n",
       "13   29.573963   29.989011\n",
       "14   26.280416   28.117598\n",
       "15   22.692456   16.954293"
      ]
     },
     "execution_count": 15,
     "metadata": {},
     "output_type": "execute_result"
    }
   ],
   "source": [
    "df"
   ]
  },
  {
   "cell_type": "code",
   "execution_count": null,
   "metadata": {},
   "outputs": [],
   "source": []
  }
 ],
 "metadata": {
  "interpreter": {
   "hash": "eeb592eeb14baf80ba7e3ad598b9cc718d92fa62785d72005ca19f7c0e0c833d"
  },
  "kernelspec": {
   "display_name": "Python 3.8.5 ('base')",
   "language": "python",
   "name": "python3"
  },
  "language_info": {
   "codemirror_mode": {
    "name": "ipython",
    "version": 3
   },
   "file_extension": ".py",
   "mimetype": "text/x-python",
   "name": "python",
   "nbconvert_exporter": "python",
   "pygments_lexer": "ipython3",
   "version": "3.8.5"
  },
  "orig_nbformat": 4
 },
 "nbformat": 4,
 "nbformat_minor": 2
}
